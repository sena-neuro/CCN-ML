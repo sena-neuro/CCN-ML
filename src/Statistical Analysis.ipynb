{
 "cells": [
  {
   "cell_type": "markdown",
   "metadata": {},
   "source": [
    "## Use t-test\n",
    "-----------------\n",
    "- Regression, logistic regression, cluster analysis, statistical graphics, quantile regression\n",
    "- compare two means or propotions\n",
    "\n",
    "1. Unmatched t-test: independent samples\n",
    "2. Matched t-test: dependency\n",
    "\n",
    "### Assumptions\n",
    "----------\n",
    "1. Variances of two populations are equal \n",
    "2. T-test makes sense only if means make sense\n",
    "\n",
    "### Alternatives\n",
    "-----------\n",
    "1. Wilcoxon test\n",
    "2. Permutation test\n",
    "3. Bootstrap\n"
   ]
  },
  {
   "cell_type": "markdown",
   "metadata": {},
   "source": [
    "Import needed libraries and data"
   ]
  },
  {
   "cell_type": "code",
   "execution_count": 1,
   "metadata": {},
   "outputs": [],
   "source": [
    "import numpy  as np, pandas as pd\n",
    "import json,os, glob,re\n",
    "from pprint      import pprint\n",
    "from scipy.stats import ttest_1samp, ttest_ind, wilcoxon\n",
    "from statsmodels.sandbox.stats.multicomp import multipletests\n",
    "import matplotlib.pyplot as plt"
   ]
  },
  {
   "cell_type": "code",
   "execution_count": 13,
   "metadata": {},
   "outputs": [],
   "source": [
    "def analyze(param, file):\n",
    "    \"\"\"Extract significant information from the json file.\"\"\"\n",
    "    \n",
    "    #<================================= Data ===============================>\n",
    "    # read data\n",
    "    with open(file) as f:\n",
    "         data    = json.load(f) \n",
    "\n",
    "    # keys for json object\n",
    "    subjects = list(data.keys())\n",
    "    windows  = list(data[subjects[0]].keys())\n",
    "\n",
    "    # information storage\n",
    "    info_storage = {}\n",
    "    for each in windows:\n",
    "        info_storage[each] = [] # initialization with empty list\n",
    "\n",
    "\n",
    "    # store info\n",
    "    for window in windows:\n",
    "        for subject in subjects:\n",
    "            info_storage[window].append(data[subject][window])\n",
    "\n",
    "    #<================================= Tests ================================>\n",
    "    # do t-test\n",
    "    ttest_values = []\n",
    "    for window in windows:\n",
    "        ttest_values.append(ttest_1samp(info_storage[window][:-1],0.333))\n",
    "\n",
    "    # combine info\n",
    "    avg_values = [ [k,v] for k, v in data['avg_all'].items() ]\n",
    "    t_values   = np.asarray(ttest_values)\n",
    "    p_values   = [float(i) for i in t_values[:,-1]]\n",
    "\n",
    "    # correction\n",
    "    p_adjusted = multipletests(p_values, method='bonferroni')[:2]\n",
    "    p_adjusted_l = list(map(list, zip(*[ x.tolist() for x in p_adjusted])))\n",
    "\n",
    "    # for ease of use - pandas DataFrame\n",
    "    values     = np.concatenate((avg_values,t_values,p_adjusted_l), axis= 1)\n",
    "    data       = pd.DataFrame(values) # pandas\n",
    "    data.columns = ['window', 'accuracy', 't-statistic', 'pvalue','truthfulness', 'new_p']\n",
    "    print(data)\n",
    "    \n",
    "    #<=========================== visualize ==================================>\n",
    "    plt.clf()\n",
    "    fig, ax = plt.subplots()\n",
    "\n",
    "    # decide on time\n",
    "    windows_val    = [2*(y-100) for y in [x for x in range(0,400,param[1])]]\n",
    "    print(windows_val)\n",
    "    # average values\n",
    "    vals           = [x for x in avg_values][:len(windows_val)]\n",
    "    ax.plot([x[0] for x in vals],[x[1] for x in vals])\n",
    "\n",
    "    # p significance\n",
    "    sig_index =  data[data['truthfulness'] == '1.0']['accuracy'].index.tolist()[:len(windows_val)]\n",
    "    print(sig_index)\n",
    "    print([vals[x] for x in sig_index])\n",
    "    #print(windows_val)\n",
    "    ax.plot([windows_val[x] for x in sig_index],[vals[x][1] for x in sig_index], \\\n",
    "             linestyle = 'none', color='r', marker='o')\n",
    "\n",
    "    # show starting understanding and chance level\n",
    "    ax.axvline(x=0, color='black', alpha=0.5, linestyle='--', label='end of baseline period')\n",
    "    ax.axhline(y=0.33, color='red', alpha=0.5, label='chance level')\n",
    "\n",
    "    ax.legend(loc='upper right')\n",
    "    ax.set_title('Classification accuracies for window size of '+ str(param[0]) \\\n",
    "                  + ' with a shift of '+ str(param[1]) + ' ms')\n",
    "    fig.savefig(\"/home/user/Desktop/\"+ 'avg_accuracy.png', bbox_inches='tight')\n",
    "    plt.show()\n"
   ]
  },
  {
   "cell_type": "code",
   "execution_count": 14,
   "metadata": {},
   "outputs": [],
   "source": [
    "def choose_from_options( list_options, replace_option = \"\"):\n",
    "    \"\"\"Printing options the easily for the user to use.\"\"\"\n",
    "    \n",
    "    separator = \"\\n-------------------------------------------------------\\n\"\n",
    "    \n",
    "    for index in range(len(list_options)):\n",
    "        print(\"[\"+str(index+1)+\"] \"+ list_options[index].replace( replace_option,\"\"))\n",
    "    \n",
    "    choice  = int(input('Enter choice: '))\n",
    "    print(\"\\n\")\n",
    "    \n",
    "    return choice-1"
   ]
  },
  {
   "cell_type": "code",
   "execution_count": 15,
   "metadata": {},
   "outputs": [],
   "source": [
    "def choose( folder_list):\n",
    "    \"\"\"Choose the accuracies you want to work with.\"\"\"\n",
    "    \n",
    "    \n",
    "    # get directory you want to work with\n",
    "    folder_num  = choose_from_options( folder_list)\n",
    "    \n",
    "    # get the file you want to work with\n",
    "    folders =  glob.glob( folder_list[ folder_num] + \"*/accuracy_results.json\")\n",
    "    subdir = choose_from_options( folders, folder_list[folder_num])\n",
    "    \n",
    "    # choose\n",
    "    print(\"You chose this file for analysis: \" + folders[subdir]+ ' .')\n",
    "    response  = input('Do you want to continue?(Y/anything else)')\n",
    "    \n",
    "    if response not in ['Y','y']:\n",
    "        return\n",
    "    \n",
    "    else:\n",
    "        # find window and shift\n",
    "        param = [int(x) for x in re.findall(r'\\d+', (folders[subdir].replace(folder_list[folder_num],\"\")))]\n",
    "        analyze(param, folders[subdir])"
   ]
  },
  {
   "cell_type": "raw",
   "metadata": {},
   "source": [
    "folder_list = [ \"/home/doren/Desktop/CCN-ML/code/0_900/\",\"/home/doren/Desktop/CCN-ML/code/0_700/\"]         \n",
    "choose(folder_list)"
   ]
  },
  {
   "cell_type": "code",
   "execution_count": 16,
   "metadata": {},
   "outputs": [],
   "source": [
    "def run_all(folder_list):\n",
    "    \"\"\"Run all the information that is in each folder.\"\"\"\n",
    "\n",
    "    for each in folder_list:\n",
    "        folders =  glob.glob(  each + \"*/accuracy_results.json\")\n",
    "        print(folders)\n",
    "        for each_subdir in folders:\n",
    "            param = [int(x) for x in re.findall(r'\\d+', (each_subdir.replace(each,\"\")))]\n",
    "            analyze(param, each_subdir)"
   ]
  },
  {
   "cell_type": "code",
   "execution_count": 17,
   "metadata": {},
   "outputs": [
    {
     "name": "stdout",
     "output_type": "stream",
     "text": [
      "['/home/user/Desktop/EEG_results/beta/E80w40s/accuracy_results.json']\n",
      "       window             accuracy          t-statistic  \\\n",
      "0     (0, 80)   0.2786233044557096   -4.744864960257374   \n",
      "1   (40, 120)   0.2911428454419424  -3.6067655357882136   \n",
      "2   (80, 160)   0.3082106861887581  -1.6892023731069958   \n",
      "3  (120, 200)   0.3908394359421056   2.4209460095388313   \n",
      "4  (160, 240)    0.413763620134141    3.512315910034478   \n",
      "5  (200, 280)   0.3566751509058452    1.528234107800984   \n",
      "6  (240, 320)   0.3240523383825083  -0.6160043221468374   \n",
      "7  (280, 360)   0.3073772501195475   -1.987295296326897   \n",
      "8  (320, 400)  0.29912971278261624  -2.5198385430605668   \n",
      "\n",
      "                   pvalue truthfulness                 new_p  \n",
      "0  0.00016175669811366124          1.0  0.001455810283022951  \n",
      "1    0.002016618115933281          1.0   0.01814956304339953  \n",
      "2     0.10842731719885607          0.0    0.9758458547897046  \n",
      "3    0.026271161722272285          0.0   0.23644045550045056  \n",
      "4   0.0024877497355722884          1.0  0.022389747620150596  \n",
      "5     0.14383676667901435          0.0                   1.0  \n",
      "6      0.5456033711784916          0.0                   1.0  \n",
      "7    0.062323627025614614          0.0    0.5609126432305316  \n",
      "8    0.021405770349752724          0.0    0.1926519331477745  \n",
      "[-200, -120, -40, 40, 120, 200, 280, 360, 440, 520]\n",
      "[0, 1, 4]\n",
      "[['(0, 80)', 0.2786233044557096], ['(40, 120)', 0.2911428454419424], ['(160, 240)', 0.413763620134141]]\n"
     ]
    },
    {
     "data": {
      "text/plain": [
       "<Figure size 432x288 with 0 Axes>"
      ]
     },
     "metadata": {},
     "output_type": "display_data"
    },
    {
     "data": {
      "image/png": "[encoded data removed]",
      "text/plain": [
       "<Figure size 432x288 with 1 Axes>"
      ]
     },
     "metadata": {
      "needs_background": "light"
     },
     "output_type": "display_data"
    }
   ],
   "source": [
    "folder_list = [ \"/home/user/Desktop/EEG_results/beta/\"] \n",
    "run_all(folder_list)"
   ]
  },
  {
   "cell_type": "code",
   "execution_count": null,
   "metadata": {},
   "outputs": [],
   "source": []
  },
  {
   "cell_type": "raw",
   "metadata": {},
   "source": [
    "# method of testing\n",
    "def create_ttest( data_location, subj):\n",
    "    \"\"\"Measure the significance when compared to chance level for the different windows. \n",
    "    Take all the subjects and run them through the testing procedure.\"\"\"\n",
    "    \n",
    "    ttest_values       = []\n",
    "    wilcoxon_values    = []\n",
    "    variances          = []\n",
    "    \n",
    "    # read the data\n",
    "    with open(data_location) as f:\n",
    "         data    = json.load(f) \n",
    "\n",
    "    #          \n",
    "        # sort the data\n",
    "        sorted_data = dict(sorted(data.items()))\n",
    "        values      = list(sorted_data[subj].values())\n",
    "        \n",
    "        variances.append(np.var(values))\n",
    "        \n",
    "        ttest_values.append(ttest_1samp(values,0.333))\n",
    "\n",
    "        \n",
    "    # sort after putting in dataframe\n",
    "    frame_2 = pd.DataFrame(np.array([accuracy_results_names, variances]).T.tolist())\n",
    "    frame_2.columns = ['Parameters','Variance']\n",
    "    frame = pd.concat([ frame_2, pd.DataFrame(ttest_values)], axis = 1).sort_values(by=['pvalue'])\n",
    "    \n",
    "    return frame"
   ]
  },
  {
   "cell_type": "raw",
   "metadata": {},
   "source": [
    "### For each subject, check the distribution according to t-test\n"
   ]
  },
  {
   "cell_type": "raw",
   "metadata": {},
   "source": [
    "#\n",
    "# Run for each\n",
    "#\n",
    "for folder in folders:\n",
    "    \n",
    "    # read information\n",
    "    print(\"\\n\\n----- Range of information:\", folder.replace(\"/home/doren/Desktop/CCN-ML/code/\",\"\").replace(\"/\",\"\"))\n",
    "    accuracy_results = [(f.path+\"/accuracy_results.json\")  for f in os.scandir(folder) if f.is_dir()]\n",
    "    \n",
    "    for i in range(1,21):\n",
    "        if i < 10:\n",
    "            subj = \"subj0\"+ str(i)+\"_results\"\n",
    "        else:\n",
    "            subj = \"subj\"+ str(i)+\"_results\"\n",
    "        print(\"\\n\\nSubject {}\\n\".format(i))\n",
    "        \n",
    "        # perform t-test\n",
    "        result = create_ttest(accuracy_results,subj)\n",
    "        display(result)\n",
    "        \n",
    "        try:\n",
    "            # adjust with bonferroni\n",
    "            frame_bonferroni = pd.DataFrame( multipletests(result['pvalue'], method='bonferroni')[1])\n",
    "            frame_bonferroni.columns = ['p_adjusted']\n",
    "            frame = pd.concat([result,frame_bonferroni], axis = 1).sort_values(by=['p_adjusted'])\n",
    "\n",
    "            display(frame[frame['p_adjusted'] > frame['pvalue']])\n",
    "            \n",
    "        except:\n",
    "            print(\"Problems with data.\")"
   ]
  },
  {
   "cell_type": "raw",
   "metadata": {},
   "source": [
    "### Run for average trials"
   ]
  },
  {
   "cell_type": "raw",
   "metadata": {},
   "source": [
    "# run for avg\n",
    "for folder in folders:\n",
    "    \n",
    "    # read information\n",
    "    print(\"Range of information:\", folder.replace(\"/home/doren/Desktop/CCN-ML/code/\",\"\").replace(\"/\",\"\"))\n",
    "    accuracy_results = [(f.path+\"/accuracy_results.json\")  for f in os.scandir(folder) if f.is_dir()]\n",
    "    subj = 'avg_all'\n",
    "    try:\n",
    "        # perform t-test\n",
    "        result = create_ttest(accuracy_results,subj)\n",
    "        #display(result)\n",
    "\n",
    "        # adjust with bonferroni\n",
    "        frame_bonferroni = pd.DataFrame( multipletests(result['pvalue'], method='bonferroni')[1])\n",
    "        frame_bonferroni.columns = ['p_adjusted']\n",
    "        frame = pd.concat([result,frame_bonferroni], axis = 1).sort_values(by=['p_adjusted'])\n",
    "        \n",
    "        # display only the useful p's\n",
    "        display(frame[frame['p_adjusted']> frame['pvalue'])\n",
    "    except:\n",
    "        print(\"Problems with data\")"
   ]
  },
  {
   "cell_type": "raw",
   "metadata": {},
   "source": []
  },
  {
   "cell_type": "raw",
   "metadata": {},
   "source": [
    "10)"
   ]
  },
  {
   "cell_type": "raw",
   "metadata": {},
   "source": []
  },
  {
   "cell_type": "code",
   "execution_count": null,
   "metadata": {},
   "outputs": [],
   "source": [
    "\n",
    "    "
   ]
  },
  {
   "cell_type": "code",
   "execution_count": null,
   "metadata": {},
   "outputs": [],
   "source": []
  }
 ],
 "metadata": {
  "kernelspec": {
   "display_name": "Python 3",
   "language": "python",
   "name": "python3"
  },
  "language_info": {
   "codemirror_mode": {
    "name": "ipython",
    "version": 3
   },
   "file_extension": ".py",
   "mimetype": "text/x-python",
   "name": "python",
   "nbconvert_exporter": "python",
   "pygments_lexer": "ipython3",
   "version": "3.7.3"
  }
 },
 "nbformat": 4,
 "nbformat_minor": 2
}
