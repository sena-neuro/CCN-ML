{
 "cells": [
  {
   "cell_type": "code",
   "execution_count": 1,
   "metadata": {},
   "outputs": [],
   "source": [
    "#!/usr/bin/env python\n",
    "# coding: utf-8\n",
    "\n",
    "# Import needed information \n",
    "import mne, os, glob\n",
    "from mne.io import read_raw_brainvision, read_epochs_eeglab\n",
    "import scipy\n",
    "import numpy as np"
   ]
  },
  {
   "cell_type": "code",
   "execution_count": 43,
   "metadata": {},
   "outputs": [
    {
     "name": "stdout",
     "output_type": "stream",
     "text": [
      "Extracting parameters from /home/user/Desktop/EEG_data/Static/subj01/subj01_s_human.set...\n",
      "88 matching events found\n",
      "No baseline correction applied\n",
      "Not setting metadata\n",
      "0 projection items activated\n",
      "Ready.\n",
      "Applying baseline correction (mode: mean)\n"
     ]
    },
    {
     "name": "stderr",
     "output_type": "stream",
     "text": [
      "<ipython-input-43-8230839eefad>:9: RuntimeWarning: At least one epoch has multiple events. Only the latency of the first event will be retained.\n",
      "  eeglab_obj = read_epochs_eeglab(each)\n",
      "<ipython-input-43-8230839eefad>:9: RuntimeWarning: The following EEG sensors did not have a position specified in the selected montage: ['pulse', 'GSR']. Their position has been left untouched.\n",
      "  eeglab_obj = read_epochs_eeglab(each)\n"
     ]
    },
    {
     "name": "stdout",
     "output_type": "stream",
     "text": [
      "Extracting parameters from /home/user/Desktop/EEG_data/Static/subj01/subj01_s_robot.set...\n",
      "88 matching events found\n",
      "No baseline correction applied\n",
      "Not setting metadata\n",
      "0 projection items activated\n",
      "Ready.\n",
      "Applying baseline correction (mode: mean)\n"
     ]
    },
    {
     "name": "stderr",
     "output_type": "stream",
     "text": [
      "<ipython-input-43-8230839eefad>:9: RuntimeWarning: At least one epoch has multiple events. Only the latency of the first event will be retained.\n",
      "  eeglab_obj = read_epochs_eeglab(each)\n",
      "<ipython-input-43-8230839eefad>:9: RuntimeWarning: The following EEG sensors did not have a position specified in the selected montage: ['pulse', 'GSR']. Their position has been left untouched.\n",
      "  eeglab_obj = read_epochs_eeglab(each)\n"
     ]
    },
    {
     "name": "stdout",
     "output_type": "stream",
     "text": [
      "Extracting parameters from /home/user/Desktop/EEG_data/Static/subj01/subj01_s_android.set...\n",
      "91 matching events found\n",
      "No baseline correction applied\n",
      "Not setting metadata\n",
      "0 projection items activated\n",
      "Ready.\n",
      "Applying baseline correction (mode: mean)\n"
     ]
    },
    {
     "name": "stderr",
     "output_type": "stream",
     "text": [
      "<ipython-input-43-8230839eefad>:9: RuntimeWarning: At least one epoch has multiple events. Only the latency of the first event will be retained.\n",
      "  eeglab_obj = read_epochs_eeglab(each)\n",
      "<ipython-input-43-8230839eefad>:9: RuntimeWarning: The following EEG sensors did not have a position specified in the selected montage: ['pulse', 'GSR']. Their position has been left untouched.\n",
      "  eeglab_obj = read_epochs_eeglab(each)\n"
     ]
    },
    {
     "name": "stdout",
     "output_type": "stream",
     "text": [
      "Extracting parameters from /home/user/Desktop/EEG_data/Static/subj20/subj20_s_human.set...\n",
      "97 matching events found\n",
      "No baseline correction applied\n",
      "Not setting metadata\n",
      "0 projection items activated\n",
      "Ready.\n",
      "Applying baseline correction (mode: mean)\n"
     ]
    },
    {
     "name": "stderr",
     "output_type": "stream",
     "text": [
      "<ipython-input-43-8230839eefad>:9: RuntimeWarning: At least one epoch has multiple events. Only the latency of the first event will be retained.\n",
      "  eeglab_obj = read_epochs_eeglab(each)\n",
      "<ipython-input-43-8230839eefad>:9: RuntimeWarning: The following EEG sensors did not have a position specified in the selected montage: ['pulse', 'GSR']. Their position has been left untouched.\n",
      "  eeglab_obj = read_epochs_eeglab(each)\n"
     ]
    },
    {
     "name": "stdout",
     "output_type": "stream",
     "text": [
      "Extracting parameters from /home/user/Desktop/EEG_data/Static/subj20/subj20_s_robot.set...\n",
      "92 matching events found\n",
      "No baseline correction applied\n",
      "Not setting metadata\n",
      "0 projection items activated\n",
      "Ready.\n",
      "Applying baseline correction (mode: mean)\n"
     ]
    },
    {
     "name": "stderr",
     "output_type": "stream",
     "text": [
      "<ipython-input-43-8230839eefad>:9: RuntimeWarning: At least one epoch has multiple events. Only the latency of the first event will be retained.\n",
      "  eeglab_obj = read_epochs_eeglab(each)\n",
      "<ipython-input-43-8230839eefad>:9: RuntimeWarning: The following EEG sensors did not have a position specified in the selected montage: ['pulse', 'GSR']. Their position has been left untouched.\n",
      "  eeglab_obj = read_epochs_eeglab(each)\n"
     ]
    },
    {
     "name": "stdout",
     "output_type": "stream",
     "text": [
      "Extracting parameters from /home/user/Desktop/EEG_data/Static/subj20/subj20_s_android.set...\n",
      "97 matching events found\n",
      "No baseline correction applied\n",
      "Not setting metadata\n",
      "0 projection items activated\n",
      "Ready.\n",
      "Applying baseline correction (mode: mean)\n"
     ]
    },
    {
     "name": "stderr",
     "output_type": "stream",
     "text": [
      "<ipython-input-43-8230839eefad>:9: RuntimeWarning: At least one epoch has multiple events. Only the latency of the first event will be retained.\n",
      "  eeglab_obj = read_epochs_eeglab(each)\n",
      "<ipython-input-43-8230839eefad>:9: RuntimeWarning: The following EEG sensors did not have a position specified in the selected montage: ['pulse', 'GSR']. Their position has been left untouched.\n",
      "  eeglab_obj = read_epochs_eeglab(each)\n"
     ]
    },
    {
     "name": "stdout",
     "output_type": "stream",
     "text": [
      "Extracting parameters from /home/user/Desktop/EEG_data/Static/subj09/subj09_s_robot.set...\n",
      "99 matching events found\n",
      "No baseline correction applied\n",
      "Not setting metadata\n",
      "0 projection items activated\n",
      "Ready.\n",
      "Applying baseline correction (mode: mean)\n"
     ]
    },
    {
     "name": "stderr",
     "output_type": "stream",
     "text": [
      "<ipython-input-43-8230839eefad>:9: RuntimeWarning: At least one epoch has multiple events. Only the latency of the first event will be retained.\n",
      "  eeglab_obj = read_epochs_eeglab(each)\n",
      "<ipython-input-43-8230839eefad>:9: RuntimeWarning: The following EEG sensors did not have a position specified in the selected montage: ['pulse', 'GSR']. Their position has been left untouched.\n",
      "  eeglab_obj = read_epochs_eeglab(each)\n"
     ]
    },
    {
     "name": "stdout",
     "output_type": "stream",
     "text": [
      "Extracting parameters from /home/user/Desktop/EEG_data/Static/subj09/subj09_s_android.set...\n",
      "94 matching events found\n",
      "No baseline correction applied\n",
      "Not setting metadata\n",
      "0 projection items activated\n",
      "Ready.\n",
      "Applying baseline correction (mode: mean)\n"
     ]
    },
    {
     "name": "stderr",
     "output_type": "stream",
     "text": [
      "<ipython-input-43-8230839eefad>:9: RuntimeWarning: At least one epoch has multiple events. Only the latency of the first event will be retained.\n",
      "  eeglab_obj = read_epochs_eeglab(each)\n",
      "<ipython-input-43-8230839eefad>:9: RuntimeWarning: The following EEG sensors did not have a position specified in the selected montage: ['pulse', 'GSR']. Their position has been left untouched.\n",
      "  eeglab_obj = read_epochs_eeglab(each)\n"
     ]
    },
    {
     "name": "stdout",
     "output_type": "stream",
     "text": [
      "Extracting parameters from /home/user/Desktop/EEG_data/Static/subj09/subj09_s_human.set...\n",
      "96 matching events found\n",
      "No baseline correction applied\n",
      "Not setting metadata\n",
      "0 projection items activated\n",
      "Ready.\n",
      "Applying baseline correction (mode: mean)\n"
     ]
    },
    {
     "name": "stderr",
     "output_type": "stream",
     "text": [
      "<ipython-input-43-8230839eefad>:9: RuntimeWarning: At least one epoch has multiple events. Only the latency of the first event will be retained.\n",
      "  eeglab_obj = read_epochs_eeglab(each)\n",
      "<ipython-input-43-8230839eefad>:9: RuntimeWarning: The following EEG sensors did not have a position specified in the selected montage: ['pulse', 'GSR']. Their position has been left untouched.\n",
      "  eeglab_obj = read_epochs_eeglab(each)\n"
     ]
    },
    {
     "name": "stdout",
     "output_type": "stream",
     "text": [
      "Extracting parameters from /home/user/Desktop/EEG_data/Static/subj06/subj06_s_robot.set...\n",
      "96 matching events found\n",
      "No baseline correction applied\n",
      "Not setting metadata\n",
      "0 projection items activated\n",
      "Ready.\n",
      "Applying baseline correction (mode: mean)\n"
     ]
    },
    {
     "name": "stderr",
     "output_type": "stream",
     "text": [
      "<ipython-input-43-8230839eefad>:9: RuntimeWarning: At least one epoch has multiple events. Only the latency of the first event will be retained.\n",
      "  eeglab_obj = read_epochs_eeglab(each)\n"
     ]
    },
    {
     "name": "stdout",
     "output_type": "stream",
     "text": [
      "Extracting parameters from /home/user/Desktop/EEG_data/Static/subj06/subj06_s_human.set...\n",
      "97 matching events found\n",
      "No baseline correction applied\n",
      "Not setting metadata\n",
      "0 projection items activated\n",
      "Ready.\n",
      "Applying baseline correction (mode: mean)\n"
     ]
    },
    {
     "name": "stderr",
     "output_type": "stream",
     "text": [
      "<ipython-input-43-8230839eefad>:9: RuntimeWarning: At least one epoch has multiple events. Only the latency of the first event will be retained.\n",
      "  eeglab_obj = read_epochs_eeglab(each)\n"
     ]
    },
    {
     "name": "stdout",
     "output_type": "stream",
     "text": [
      "Extracting parameters from /home/user/Desktop/EEG_data/Static/subj06/subj06_s_android.set...\n",
      "101 matching events found\n",
      "No baseline correction applied\n",
      "Not setting metadata\n",
      "0 projection items activated\n",
      "Ready.\n",
      "Applying baseline correction (mode: mean)\n"
     ]
    },
    {
     "name": "stderr",
     "output_type": "stream",
     "text": [
      "<ipython-input-43-8230839eefad>:9: RuntimeWarning: At least one epoch has multiple events. Only the latency of the first event will be retained.\n",
      "  eeglab_obj = read_epochs_eeglab(each)\n"
     ]
    },
    {
     "name": "stdout",
     "output_type": "stream",
     "text": [
      "Extracting parameters from /home/user/Desktop/EEG_data/Static/subj15/subj15_s_android.set...\n",
      "103 matching events found\n",
      "No baseline correction applied\n",
      "Not setting metadata\n",
      "0 projection items activated\n",
      "Ready.\n",
      "Applying baseline correction (mode: mean)\n"
     ]
    },
    {
     "name": "stderr",
     "output_type": "stream",
     "text": [
      "<ipython-input-43-8230839eefad>:9: RuntimeWarning: At least one epoch has multiple events. Only the latency of the first event will be retained.\n",
      "  eeglab_obj = read_epochs_eeglab(each)\n",
      "<ipython-input-43-8230839eefad>:9: RuntimeWarning: The following EEG sensors did not have a position specified in the selected montage: ['pulse', 'GSR']. Their position has been left untouched.\n",
      "  eeglab_obj = read_epochs_eeglab(each)\n"
     ]
    },
    {
     "name": "stdout",
     "output_type": "stream",
     "text": [
      "Extracting parameters from /home/user/Desktop/EEG_data/Static/subj15/subj15_s_robot.set...\n",
      "98 matching events found\n",
      "No baseline correction applied\n",
      "Not setting metadata\n",
      "0 projection items activated\n",
      "Ready.\n",
      "Applying baseline correction (mode: mean)\n"
     ]
    },
    {
     "name": "stderr",
     "output_type": "stream",
     "text": [
      "<ipython-input-43-8230839eefad>:9: RuntimeWarning: At least one epoch has multiple events. Only the latency of the first event will be retained.\n",
      "  eeglab_obj = read_epochs_eeglab(each)\n",
      "<ipython-input-43-8230839eefad>:9: RuntimeWarning: The following EEG sensors did not have a position specified in the selected montage: ['pulse', 'GSR']. Their position has been left untouched.\n",
      "  eeglab_obj = read_epochs_eeglab(each)\n"
     ]
    },
    {
     "name": "stdout",
     "output_type": "stream",
     "text": [
      "Extracting parameters from /home/user/Desktop/EEG_data/Static/subj15/subj15_s_human.set...\n",
      "90 matching events found\n",
      "No baseline correction applied\n",
      "Not setting metadata\n",
      "0 projection items activated\n",
      "Ready.\n",
      "Applying baseline correction (mode: mean)\n"
     ]
    },
    {
     "name": "stderr",
     "output_type": "stream",
     "text": [
      "<ipython-input-43-8230839eefad>:9: RuntimeWarning: At least one epoch has multiple events. Only the latency of the first event will be retained.\n",
      "  eeglab_obj = read_epochs_eeglab(each)\n",
      "<ipython-input-43-8230839eefad>:9: RuntimeWarning: The following EEG sensors did not have a position specified in the selected montage: ['pulse', 'GSR']. Their position has been left untouched.\n",
      "  eeglab_obj = read_epochs_eeglab(each)\n"
     ]
    },
    {
     "name": "stdout",
     "output_type": "stream",
     "text": [
      "Extracting parameters from /home/user/Desktop/EEG_data/Static/subj16/subj16_s_robot.set...\n",
      "91 matching events found\n",
      "No baseline correction applied\n",
      "Not setting metadata\n",
      "0 projection items activated\n",
      "Ready.\n",
      "Applying baseline correction (mode: mean)\n"
     ]
    },
    {
     "name": "stderr",
     "output_type": "stream",
     "text": [
      "<ipython-input-43-8230839eefad>:9: RuntimeWarning: At least one epoch has multiple events. Only the latency of the first event will be retained.\n",
      "  eeglab_obj = read_epochs_eeglab(each)\n",
      "<ipython-input-43-8230839eefad>:9: RuntimeWarning: The following EEG sensors did not have a position specified in the selected montage: ['pulse', 'GSR']. Their position has been left untouched.\n",
      "  eeglab_obj = read_epochs_eeglab(each)\n"
     ]
    },
    {
     "name": "stdout",
     "output_type": "stream",
     "text": [
      "Extracting parameters from /home/user/Desktop/EEG_data/Static/subj16/subj16_s_human.set...\n",
      "95 matching events found\n",
      "No baseline correction applied\n",
      "Not setting metadata\n",
      "0 projection items activated\n",
      "Ready.\n",
      "Applying baseline correction (mode: mean)\n"
     ]
    },
    {
     "name": "stderr",
     "output_type": "stream",
     "text": [
      "<ipython-input-43-8230839eefad>:9: RuntimeWarning: At least one epoch has multiple events. Only the latency of the first event will be retained.\n",
      "  eeglab_obj = read_epochs_eeglab(each)\n",
      "<ipython-input-43-8230839eefad>:9: RuntimeWarning: The following EEG sensors did not have a position specified in the selected montage: ['pulse', 'GSR']. Their position has been left untouched.\n",
      "  eeglab_obj = read_epochs_eeglab(each)\n"
     ]
    },
    {
     "name": "stdout",
     "output_type": "stream",
     "text": [
      "Extracting parameters from /home/user/Desktop/EEG_data/Static/subj16/subj16_s_android.set...\n",
      "94 matching events found\n",
      "No baseline correction applied\n",
      "Not setting metadata\n",
      "0 projection items activated\n",
      "Ready.\n",
      "Applying baseline correction (mode: mean)\n"
     ]
    },
    {
     "name": "stderr",
     "output_type": "stream",
     "text": [
      "<ipython-input-43-8230839eefad>:9: RuntimeWarning: At least one epoch has multiple events. Only the latency of the first event will be retained.\n",
      "  eeglab_obj = read_epochs_eeglab(each)\n",
      "<ipython-input-43-8230839eefad>:9: RuntimeWarning: The following EEG sensors did not have a position specified in the selected montage: ['pulse', 'GSR']. Their position has been left untouched.\n",
      "  eeglab_obj = read_epochs_eeglab(each)\n"
     ]
    },
    {
     "name": "stdout",
     "output_type": "stream",
     "text": [
      "Extracting parameters from /home/user/Desktop/EEG_data/Static/subj19/subj19_s_android.set...\n",
      "115 matching events found\n",
      "No baseline correction applied\n",
      "Not setting metadata\n",
      "0 projection items activated\n",
      "Ready.\n",
      "Applying baseline correction (mode: mean)\n"
     ]
    },
    {
     "name": "stderr",
     "output_type": "stream",
     "text": [
      "<ipython-input-43-8230839eefad>:9: RuntimeWarning: At least one epoch has multiple events. Only the latency of the first event will be retained.\n",
      "  eeglab_obj = read_epochs_eeglab(each)\n",
      "<ipython-input-43-8230839eefad>:9: RuntimeWarning: The following EEG sensors did not have a position specified in the selected montage: ['pulse', 'GSR']. Their position has been left untouched.\n",
      "  eeglab_obj = read_epochs_eeglab(each)\n"
     ]
    },
    {
     "name": "stdout",
     "output_type": "stream",
     "text": [
      "Extracting parameters from /home/user/Desktop/EEG_data/Static/subj19/subj19_s_robot.set...\n",
      "114 matching events found\n",
      "No baseline correction applied\n",
      "Not setting metadata\n",
      "0 projection items activated\n",
      "Ready.\n",
      "Applying baseline correction (mode: mean)\n"
     ]
    },
    {
     "name": "stderr",
     "output_type": "stream",
     "text": [
      "<ipython-input-43-8230839eefad>:9: RuntimeWarning: At least one epoch has multiple events. Only the latency of the first event will be retained.\n",
      "  eeglab_obj = read_epochs_eeglab(each)\n",
      "<ipython-input-43-8230839eefad>:9: RuntimeWarning: The following EEG sensors did not have a position specified in the selected montage: ['pulse', 'GSR']. Their position has been left untouched.\n",
      "  eeglab_obj = read_epochs_eeglab(each)\n"
     ]
    },
    {
     "name": "stdout",
     "output_type": "stream",
     "text": [
      "Extracting parameters from /home/user/Desktop/EEG_data/Static/subj19/subj19_s_human.set...\n",
      "111 matching events found\n",
      "No baseline correction applied\n",
      "Not setting metadata\n",
      "0 projection items activated\n",
      "Ready.\n",
      "Applying baseline correction (mode: mean)\n"
     ]
    },
    {
     "name": "stderr",
     "output_type": "stream",
     "text": [
      "<ipython-input-43-8230839eefad>:9: RuntimeWarning: At least one epoch has multiple events. Only the latency of the first event will be retained.\n",
      "  eeglab_obj = read_epochs_eeglab(each)\n",
      "<ipython-input-43-8230839eefad>:9: RuntimeWarning: The following EEG sensors did not have a position specified in the selected montage: ['pulse', 'GSR']. Their position has been left untouched.\n",
      "  eeglab_obj = read_epochs_eeglab(each)\n"
     ]
    },
    {
     "name": "stdout",
     "output_type": "stream",
     "text": [
      "Extracting parameters from /home/user/Desktop/EEG_data/Static/subj04/subj04_s_human.set...\n",
      "93 matching events found\n",
      "No baseline correction applied\n",
      "Not setting metadata\n",
      "0 projection items activated\n",
      "Ready.\n",
      "Applying baseline correction (mode: mean)\n"
     ]
    },
    {
     "name": "stderr",
     "output_type": "stream",
     "text": [
      "<ipython-input-43-8230839eefad>:9: RuntimeWarning: At least one epoch has multiple events. Only the latency of the first event will be retained.\n",
      "  eeglab_obj = read_epochs_eeglab(each)\n",
      "<ipython-input-43-8230839eefad>:9: RuntimeWarning: The following EEG sensors did not have a position specified in the selected montage: ['pulse', 'GSR']. Their position has been left untouched.\n",
      "  eeglab_obj = read_epochs_eeglab(each)\n"
     ]
    },
    {
     "name": "stdout",
     "output_type": "stream",
     "text": [
      "Extracting parameters from /home/user/Desktop/EEG_data/Static/subj04/subj04_s_robot.set...\n",
      "93 matching events found\n",
      "No baseline correction applied\n",
      "Not setting metadata\n",
      "0 projection items activated\n",
      "Ready.\n",
      "Applying baseline correction (mode: mean)\n"
     ]
    },
    {
     "name": "stderr",
     "output_type": "stream",
     "text": [
      "<ipython-input-43-8230839eefad>:9: RuntimeWarning: At least one epoch has multiple events. Only the latency of the first event will be retained.\n",
      "  eeglab_obj = read_epochs_eeglab(each)\n",
      "<ipython-input-43-8230839eefad>:9: RuntimeWarning: The following EEG sensors did not have a position specified in the selected montage: ['pulse', 'GSR']. Their position has been left untouched.\n",
      "  eeglab_obj = read_epochs_eeglab(each)\n"
     ]
    },
    {
     "name": "stdout",
     "output_type": "stream",
     "text": [
      "Extracting parameters from /home/user/Desktop/EEG_data/Static/subj04/subj04_s_android.set...\n",
      "92 matching events found\n",
      "No baseline correction applied\n",
      "Not setting metadata\n",
      "0 projection items activated\n",
      "Ready.\n",
      "Applying baseline correction (mode: mean)\n"
     ]
    },
    {
     "name": "stderr",
     "output_type": "stream",
     "text": [
      "<ipython-input-43-8230839eefad>:9: RuntimeWarning: At least one epoch has multiple events. Only the latency of the first event will be retained.\n",
      "  eeglab_obj = read_epochs_eeglab(each)\n",
      "<ipython-input-43-8230839eefad>:9: RuntimeWarning: The following EEG sensors did not have a position specified in the selected montage: ['pulse', 'GSR']. Their position has been left untouched.\n",
      "  eeglab_obj = read_epochs_eeglab(each)\n"
     ]
    },
    {
     "name": "stdout",
     "output_type": "stream",
     "text": [
      "Extracting parameters from /home/user/Desktop/EEG_data/Static/subj08/subj08_s_human.set...\n",
      "99 matching events found\n",
      "No baseline correction applied\n",
      "Not setting metadata\n",
      "0 projection items activated\n",
      "Ready.\n",
      "Applying baseline correction (mode: mean)\n"
     ]
    },
    {
     "name": "stderr",
     "output_type": "stream",
     "text": [
      "<ipython-input-43-8230839eefad>:9: RuntimeWarning: At least one epoch has multiple events. Only the latency of the first event will be retained.\n",
      "  eeglab_obj = read_epochs_eeglab(each)\n"
     ]
    },
    {
     "name": "stdout",
     "output_type": "stream",
     "text": [
      "Extracting parameters from /home/user/Desktop/EEG_data/Static/subj08/subj08_s_android.set...\n",
      "97 matching events found\n",
      "No baseline correction applied\n",
      "Not setting metadata\n",
      "0 projection items activated\n",
      "Ready.\n",
      "Applying baseline correction (mode: mean)\n"
     ]
    },
    {
     "name": "stderr",
     "output_type": "stream",
     "text": [
      "<ipython-input-43-8230839eefad>:9: RuntimeWarning: At least one epoch has multiple events. Only the latency of the first event will be retained.\n",
      "  eeglab_obj = read_epochs_eeglab(each)\n"
     ]
    },
    {
     "name": "stdout",
     "output_type": "stream",
     "text": [
      "Extracting parameters from /home/user/Desktop/EEG_data/Static/subj08/subj08_s_robot.set...\n",
      "99 matching events found\n",
      "No baseline correction applied\n",
      "Not setting metadata\n",
      "0 projection items activated\n",
      "Ready.\n",
      "Applying baseline correction (mode: mean)\n"
     ]
    },
    {
     "name": "stderr",
     "output_type": "stream",
     "text": [
      "<ipython-input-43-8230839eefad>:9: RuntimeWarning: At least one epoch has multiple events. Only the latency of the first event will be retained.\n",
      "  eeglab_obj = read_epochs_eeglab(each)\n"
     ]
    },
    {
     "name": "stdout",
     "output_type": "stream",
     "text": [
      "Extracting parameters from /home/user/Desktop/EEG_data/Static/subj05/subj05_s_human.set...\n",
      "96 matching events found\n",
      "No baseline correction applied\n",
      "Not setting metadata\n",
      "0 projection items activated\n",
      "Ready.\n",
      "Applying baseline correction (mode: mean)\n"
     ]
    },
    {
     "name": "stderr",
     "output_type": "stream",
     "text": [
      "<ipython-input-43-8230839eefad>:9: RuntimeWarning: At least one epoch has multiple events. Only the latency of the first event will be retained.\n",
      "  eeglab_obj = read_epochs_eeglab(each)\n",
      "<ipython-input-43-8230839eefad>:9: RuntimeWarning: The following EEG sensors did not have a position specified in the selected montage: ['pulse', 'GSR']. Their position has been left untouched.\n",
      "  eeglab_obj = read_epochs_eeglab(each)\n"
     ]
    },
    {
     "name": "stdout",
     "output_type": "stream",
     "text": [
      "Extracting parameters from /home/user/Desktop/EEG_data/Static/subj05/subj05_s_android.set...\n",
      "94 matching events found\n",
      "No baseline correction applied\n",
      "Not setting metadata\n",
      "0 projection items activated\n",
      "Ready.\n",
      "Applying baseline correction (mode: mean)\n"
     ]
    },
    {
     "name": "stderr",
     "output_type": "stream",
     "text": [
      "<ipython-input-43-8230839eefad>:9: RuntimeWarning: At least one epoch has multiple events. Only the latency of the first event will be retained.\n",
      "  eeglab_obj = read_epochs_eeglab(each)\n",
      "<ipython-input-43-8230839eefad>:9: RuntimeWarning: The following EEG sensors did not have a position specified in the selected montage: ['pulse', 'GSR']. Their position has been left untouched.\n",
      "  eeglab_obj = read_epochs_eeglab(each)\n"
     ]
    },
    {
     "name": "stdout",
     "output_type": "stream",
     "text": [
      "Extracting parameters from /home/user/Desktop/EEG_data/Static/subj05/subj05_s_robot.set...\n",
      "99 matching events found\n",
      "No baseline correction applied\n",
      "Not setting metadata\n",
      "0 projection items activated\n",
      "Ready.\n",
      "Applying baseline correction (mode: mean)\n"
     ]
    },
    {
     "name": "stderr",
     "output_type": "stream",
     "text": [
      "<ipython-input-43-8230839eefad>:9: RuntimeWarning: At least one epoch has multiple events. Only the latency of the first event will be retained.\n",
      "  eeglab_obj = read_epochs_eeglab(each)\n",
      "<ipython-input-43-8230839eefad>:9: RuntimeWarning: The following EEG sensors did not have a position specified in the selected montage: ['pulse', 'GSR']. Their position has been left untouched.\n",
      "  eeglab_obj = read_epochs_eeglab(each)\n"
     ]
    },
    {
     "name": "stdout",
     "output_type": "stream",
     "text": [
      "Extracting parameters from /home/user/Desktop/EEG_data/Static/subj12/subj12_s_robot.set...\n",
      "94 matching events found\n",
      "No baseline correction applied\n",
      "Not setting metadata\n",
      "0 projection items activated\n",
      "Ready.\n",
      "Applying baseline correction (mode: mean)\n"
     ]
    },
    {
     "name": "stderr",
     "output_type": "stream",
     "text": [
      "<ipython-input-43-8230839eefad>:9: RuntimeWarning: At least one epoch has multiple events. Only the latency of the first event will be retained.\n",
      "  eeglab_obj = read_epochs_eeglab(each)\n",
      "<ipython-input-43-8230839eefad>:9: RuntimeWarning: The following EEG sensors did not have a position specified in the selected montage: ['pulse', 'GSR']. Their position has been left untouched.\n",
      "  eeglab_obj = read_epochs_eeglab(each)\n"
     ]
    },
    {
     "name": "stdout",
     "output_type": "stream",
     "text": [
      "Extracting parameters from /home/user/Desktop/EEG_data/Static/subj12/subj12_s_human.set...\n",
      "98 matching events found\n",
      "No baseline correction applied\n",
      "Not setting metadata\n",
      "0 projection items activated\n",
      "Ready.\n",
      "Applying baseline correction (mode: mean)\n"
     ]
    },
    {
     "name": "stderr",
     "output_type": "stream",
     "text": [
      "<ipython-input-43-8230839eefad>:9: RuntimeWarning: At least one epoch has multiple events. Only the latency of the first event will be retained.\n",
      "  eeglab_obj = read_epochs_eeglab(each)\n",
      "<ipython-input-43-8230839eefad>:9: RuntimeWarning: The following EEG sensors did not have a position specified in the selected montage: ['pulse', 'GSR']. Their position has been left untouched.\n",
      "  eeglab_obj = read_epochs_eeglab(each)\n"
     ]
    },
    {
     "name": "stdout",
     "output_type": "stream",
     "text": [
      "Extracting parameters from /home/user/Desktop/EEG_data/Static/subj12/subj12_s_android.set...\n",
      "100 matching events found\n",
      "No baseline correction applied\n",
      "Not setting metadata\n",
      "0 projection items activated\n",
      "Ready.\n",
      "Applying baseline correction (mode: mean)\n"
     ]
    },
    {
     "name": "stderr",
     "output_type": "stream",
     "text": [
      "<ipython-input-43-8230839eefad>:9: RuntimeWarning: At least one epoch has multiple events. Only the latency of the first event will be retained.\n",
      "  eeglab_obj = read_epochs_eeglab(each)\n",
      "<ipython-input-43-8230839eefad>:9: RuntimeWarning: The following EEG sensors did not have a position specified in the selected montage: ['pulse', 'GSR']. Their position has been left untouched.\n",
      "  eeglab_obj = read_epochs_eeglab(each)\n"
     ]
    },
    {
     "name": "stdout",
     "output_type": "stream",
     "text": [
      "Extracting parameters from /home/user/Desktop/EEG_data/Static/subj14/subj14_s_human.set...\n",
      "105 matching events found\n",
      "No baseline correction applied\n",
      "Not setting metadata\n",
      "0 projection items activated\n",
      "Ready.\n",
      "Applying baseline correction (mode: mean)\n"
     ]
    },
    {
     "name": "stderr",
     "output_type": "stream",
     "text": [
      "<ipython-input-43-8230839eefad>:9: RuntimeWarning: At least one epoch has multiple events. Only the latency of the first event will be retained.\n",
      "  eeglab_obj = read_epochs_eeglab(each)\n",
      "<ipython-input-43-8230839eefad>:9: RuntimeWarning: The following EEG sensors did not have a position specified in the selected montage: ['pulse', 'GSR']. Their position has been left untouched.\n",
      "  eeglab_obj = read_epochs_eeglab(each)\n"
     ]
    },
    {
     "name": "stdout",
     "output_type": "stream",
     "text": [
      "Extracting parameters from /home/user/Desktop/EEG_data/Static/subj14/subj14_s_android.set...\n",
      "97 matching events found\n",
      "No baseline correction applied\n",
      "Not setting metadata\n",
      "0 projection items activated\n",
      "Ready.\n",
      "Applying baseline correction (mode: mean)\n"
     ]
    },
    {
     "name": "stderr",
     "output_type": "stream",
     "text": [
      "<ipython-input-43-8230839eefad>:9: RuntimeWarning: At least one epoch has multiple events. Only the latency of the first event will be retained.\n",
      "  eeglab_obj = read_epochs_eeglab(each)\n",
      "<ipython-input-43-8230839eefad>:9: RuntimeWarning: The following EEG sensors did not have a position specified in the selected montage: ['pulse', 'GSR']. Their position has been left untouched.\n",
      "  eeglab_obj = read_epochs_eeglab(each)\n"
     ]
    },
    {
     "name": "stdout",
     "output_type": "stream",
     "text": [
      "Extracting parameters from /home/user/Desktop/EEG_data/Static/subj14/subj14_s_robot.set...\n",
      "101 matching events found\n",
      "No baseline correction applied\n",
      "Not setting metadata\n",
      "0 projection items activated\n",
      "Ready.\n",
      "Applying baseline correction (mode: mean)\n"
     ]
    },
    {
     "name": "stderr",
     "output_type": "stream",
     "text": [
      "<ipython-input-43-8230839eefad>:9: RuntimeWarning: At least one epoch has multiple events. Only the latency of the first event will be retained.\n",
      "  eeglab_obj = read_epochs_eeglab(each)\n",
      "<ipython-input-43-8230839eefad>:9: RuntimeWarning: The following EEG sensors did not have a position specified in the selected montage: ['pulse', 'GSR']. Their position has been left untouched.\n",
      "  eeglab_obj = read_epochs_eeglab(each)\n"
     ]
    },
    {
     "name": "stdout",
     "output_type": "stream",
     "text": [
      "Extracting parameters from /home/user/Desktop/EEG_data/Static/subj02/subj02_s_human.set...\n",
      "95 matching events found\n",
      "No baseline correction applied\n",
      "Not setting metadata\n",
      "0 projection items activated\n",
      "Ready.\n",
      "Applying baseline correction (mode: mean)\n"
     ]
    },
    {
     "name": "stderr",
     "output_type": "stream",
     "text": [
      "<ipython-input-43-8230839eefad>:9: RuntimeWarning: At least one epoch has multiple events. Only the latency of the first event will be retained.\n",
      "  eeglab_obj = read_epochs_eeglab(each)\n",
      "<ipython-input-43-8230839eefad>:9: RuntimeWarning: The following EEG sensors did not have a position specified in the selected montage: ['pulse', 'GSR']. Their position has been left untouched.\n",
      "  eeglab_obj = read_epochs_eeglab(each)\n"
     ]
    },
    {
     "name": "stdout",
     "output_type": "stream",
     "text": [
      "Extracting parameters from /home/user/Desktop/EEG_data/Static/subj02/subj02_s_robot.set...\n",
      "93 matching events found\n",
      "No baseline correction applied\n",
      "Not setting metadata\n",
      "0 projection items activated\n",
      "Ready.\n",
      "Applying baseline correction (mode: mean)\n"
     ]
    },
    {
     "name": "stderr",
     "output_type": "stream",
     "text": [
      "<ipython-input-43-8230839eefad>:9: RuntimeWarning: At least one epoch has multiple events. Only the latency of the first event will be retained.\n",
      "  eeglab_obj = read_epochs_eeglab(each)\n",
      "<ipython-input-43-8230839eefad>:9: RuntimeWarning: The following EEG sensors did not have a position specified in the selected montage: ['pulse', 'GSR']. Their position has been left untouched.\n",
      "  eeglab_obj = read_epochs_eeglab(each)\n"
     ]
    },
    {
     "name": "stdout",
     "output_type": "stream",
     "text": [
      "Extracting parameters from /home/user/Desktop/EEG_data/Static/subj02/subj02_s_android.set...\n",
      "92 matching events found\n",
      "No baseline correction applied\n",
      "Not setting metadata\n",
      "0 projection items activated\n",
      "Ready.\n",
      "Applying baseline correction (mode: mean)\n"
     ]
    },
    {
     "name": "stderr",
     "output_type": "stream",
     "text": [
      "<ipython-input-43-8230839eefad>:9: RuntimeWarning: At least one epoch has multiple events. Only the latency of the first event will be retained.\n",
      "  eeglab_obj = read_epochs_eeglab(each)\n",
      "<ipython-input-43-8230839eefad>:9: RuntimeWarning: The following EEG sensors did not have a position specified in the selected montage: ['pulse', 'GSR']. Their position has been left untouched.\n",
      "  eeglab_obj = read_epochs_eeglab(each)\n"
     ]
    },
    {
     "name": "stdout",
     "output_type": "stream",
     "text": [
      "Extracting parameters from /home/user/Desktop/EEG_data/Static/subj10/subj10_s_robot.set...\n",
      "93 matching events found\n",
      "No baseline correction applied\n",
      "Not setting metadata\n",
      "0 projection items activated\n",
      "Ready.\n",
      "Applying baseline correction (mode: mean)\n"
     ]
    },
    {
     "name": "stderr",
     "output_type": "stream",
     "text": [
      "<ipython-input-43-8230839eefad>:9: RuntimeWarning: At least one epoch has multiple events. Only the latency of the first event will be retained.\n",
      "  eeglab_obj = read_epochs_eeglab(each)\n",
      "<ipython-input-43-8230839eefad>:9: RuntimeWarning: The following EEG sensors did not have a position specified in the selected montage: ['pulse', 'GSR']. Their position has been left untouched.\n",
      "  eeglab_obj = read_epochs_eeglab(each)\n"
     ]
    },
    {
     "name": "stdout",
     "output_type": "stream",
     "text": [
      "Extracting parameters from /home/user/Desktop/EEG_data/Static/subj10/subj10_s_android.set...\n",
      "90 matching events found\n",
      "No baseline correction applied\n",
      "Not setting metadata\n",
      "0 projection items activated\n",
      "Ready.\n",
      "Applying baseline correction (mode: mean)\n"
     ]
    },
    {
     "name": "stderr",
     "output_type": "stream",
     "text": [
      "<ipython-input-43-8230839eefad>:9: RuntimeWarning: At least one epoch has multiple events. Only the latency of the first event will be retained.\n",
      "  eeglab_obj = read_epochs_eeglab(each)\n",
      "<ipython-input-43-8230839eefad>:9: RuntimeWarning: The following EEG sensors did not have a position specified in the selected montage: ['pulse', 'GSR']. Their position has been left untouched.\n",
      "  eeglab_obj = read_epochs_eeglab(each)\n"
     ]
    },
    {
     "name": "stdout",
     "output_type": "stream",
     "text": [
      "Extracting parameters from /home/user/Desktop/EEG_data/Static/subj10/subj10_s_human.set...\n",
      "94 matching events found\n",
      "No baseline correction applied\n",
      "Not setting metadata\n",
      "0 projection items activated\n",
      "Ready.\n",
      "Applying baseline correction (mode: mean)\n"
     ]
    },
    {
     "name": "stderr",
     "output_type": "stream",
     "text": [
      "<ipython-input-43-8230839eefad>:9: RuntimeWarning: At least one epoch has multiple events. Only the latency of the first event will be retained.\n",
      "  eeglab_obj = read_epochs_eeglab(each)\n",
      "<ipython-input-43-8230839eefad>:9: RuntimeWarning: The following EEG sensors did not have a position specified in the selected montage: ['pulse', 'GSR']. Their position has been left untouched.\n",
      "  eeglab_obj = read_epochs_eeglab(each)\n"
     ]
    },
    {
     "name": "stdout",
     "output_type": "stream",
     "text": [
      "Extracting parameters from /home/user/Desktop/EEG_data/Static/subj07/subj07_s_android.set...\n",
      "98 matching events found\n",
      "No baseline correction applied\n",
      "Not setting metadata\n",
      "0 projection items activated\n",
      "Ready.\n",
      "Applying baseline correction (mode: mean)\n"
     ]
    },
    {
     "name": "stderr",
     "output_type": "stream",
     "text": [
      "<ipython-input-43-8230839eefad>:9: RuntimeWarning: At least one epoch has multiple events. Only the latency of the first event will be retained.\n",
      "  eeglab_obj = read_epochs_eeglab(each)\n",
      "<ipython-input-43-8230839eefad>:9: RuntimeWarning: The following EEG sensors did not have a position specified in the selected montage: ['pulse', 'GSR']. Their position has been left untouched.\n",
      "  eeglab_obj = read_epochs_eeglab(each)\n"
     ]
    },
    {
     "name": "stdout",
     "output_type": "stream",
     "text": [
      "Extracting parameters from /home/user/Desktop/EEG_data/Static/subj07/subj07_s_human.set...\n",
      "97 matching events found\n",
      "No baseline correction applied\n",
      "Not setting metadata\n",
      "0 projection items activated\n",
      "Ready.\n",
      "Applying baseline correction (mode: mean)\n"
     ]
    },
    {
     "name": "stderr",
     "output_type": "stream",
     "text": [
      "<ipython-input-43-8230839eefad>:9: RuntimeWarning: At least one epoch has multiple events. Only the latency of the first event will be retained.\n",
      "  eeglab_obj = read_epochs_eeglab(each)\n",
      "<ipython-input-43-8230839eefad>:9: RuntimeWarning: The following EEG sensors did not have a position specified in the selected montage: ['pulse', 'GSR']. Their position has been left untouched.\n",
      "  eeglab_obj = read_epochs_eeglab(each)\n"
     ]
    },
    {
     "name": "stdout",
     "output_type": "stream",
     "text": [
      "Extracting parameters from /home/user/Desktop/EEG_data/Static/subj07/subj07_s_robot.set...\n",
      "102 matching events found\n",
      "No baseline correction applied\n",
      "Not setting metadata\n",
      "0 projection items activated\n",
      "Ready.\n",
      "Applying baseline correction (mode: mean)\n"
     ]
    },
    {
     "name": "stderr",
     "output_type": "stream",
     "text": [
      "<ipython-input-43-8230839eefad>:9: RuntimeWarning: At least one epoch has multiple events. Only the latency of the first event will be retained.\n",
      "  eeglab_obj = read_epochs_eeglab(each)\n",
      "<ipython-input-43-8230839eefad>:9: RuntimeWarning: The following EEG sensors did not have a position specified in the selected montage: ['pulse', 'GSR']. Their position has been left untouched.\n",
      "  eeglab_obj = read_epochs_eeglab(each)\n"
     ]
    },
    {
     "name": "stdout",
     "output_type": "stream",
     "text": [
      "Extracting parameters from /home/user/Desktop/EEG_data/Static/subj11/subj11_s_robot.set...\n",
      "85 matching events found\n",
      "No baseline correction applied\n",
      "Not setting metadata\n",
      "0 projection items activated\n",
      "Ready.\n",
      "Applying baseline correction (mode: mean)\n"
     ]
    },
    {
     "name": "stderr",
     "output_type": "stream",
     "text": [
      "<ipython-input-43-8230839eefad>:9: RuntimeWarning: At least one epoch has multiple events. Only the latency of the first event will be retained.\n",
      "  eeglab_obj = read_epochs_eeglab(each)\n",
      "<ipython-input-43-8230839eefad>:9: RuntimeWarning: The following EEG sensors did not have a position specified in the selected montage: ['pulse', 'GSR']. Their position has been left untouched.\n",
      "  eeglab_obj = read_epochs_eeglab(each)\n"
     ]
    },
    {
     "name": "stdout",
     "output_type": "stream",
     "text": [
      "Extracting parameters from /home/user/Desktop/EEG_data/Static/subj11/subj11_s_human.set...\n",
      "92 matching events found\n",
      "No baseline correction applied\n",
      "Not setting metadata\n",
      "0 projection items activated\n",
      "Ready.\n",
      "Applying baseline correction (mode: mean)\n"
     ]
    },
    {
     "name": "stderr",
     "output_type": "stream",
     "text": [
      "<ipython-input-43-8230839eefad>:9: RuntimeWarning: At least one epoch has multiple events. Only the latency of the first event will be retained.\n",
      "  eeglab_obj = read_epochs_eeglab(each)\n",
      "<ipython-input-43-8230839eefad>:9: RuntimeWarning: The following EEG sensors did not have a position specified in the selected montage: ['pulse', 'GSR']. Their position has been left untouched.\n",
      "  eeglab_obj = read_epochs_eeglab(each)\n"
     ]
    },
    {
     "name": "stdout",
     "output_type": "stream",
     "text": [
      "Extracting parameters from /home/user/Desktop/EEG_data/Static/subj11/subj11_s_android.set...\n",
      "95 matching events found\n",
      "No baseline correction applied\n",
      "Not setting metadata\n",
      "0 projection items activated\n",
      "Ready.\n",
      "Applying baseline correction (mode: mean)\n"
     ]
    },
    {
     "name": "stderr",
     "output_type": "stream",
     "text": [
      "<ipython-input-43-8230839eefad>:9: RuntimeWarning: At least one epoch has multiple events. Only the latency of the first event will be retained.\n",
      "  eeglab_obj = read_epochs_eeglab(each)\n",
      "<ipython-input-43-8230839eefad>:9: RuntimeWarning: The following EEG sensors did not have a position specified in the selected montage: ['pulse', 'GSR']. Their position has been left untouched.\n",
      "  eeglab_obj = read_epochs_eeglab(each)\n"
     ]
    },
    {
     "name": "stdout",
     "output_type": "stream",
     "text": [
      "Extracting parameters from /home/user/Desktop/EEG_data/Static/subj13/subj13_s_human.set...\n",
      "93 matching events found\n",
      "No baseline correction applied\n",
      "Not setting metadata\n",
      "0 projection items activated\n",
      "Ready.\n",
      "Applying baseline correction (mode: mean)\n"
     ]
    },
    {
     "name": "stderr",
     "output_type": "stream",
     "text": [
      "<ipython-input-43-8230839eefad>:9: RuntimeWarning: At least one epoch has multiple events. Only the latency of the first event will be retained.\n",
      "  eeglab_obj = read_epochs_eeglab(each)\n",
      "<ipython-input-43-8230839eefad>:9: RuntimeWarning: The following EEG sensors did not have a position specified in the selected montage: ['pulse', 'GSR']. Their position has been left untouched.\n",
      "  eeglab_obj = read_epochs_eeglab(each)\n"
     ]
    },
    {
     "name": "stdout",
     "output_type": "stream",
     "text": [
      "Extracting parameters from /home/user/Desktop/EEG_data/Static/subj13/subj13_s_robot.set...\n",
      "98 matching events found\n",
      "No baseline correction applied\n",
      "Not setting metadata\n",
      "0 projection items activated\n",
      "Ready.\n",
      "Applying baseline correction (mode: mean)\n"
     ]
    },
    {
     "name": "stderr",
     "output_type": "stream",
     "text": [
      "<ipython-input-43-8230839eefad>:9: RuntimeWarning: At least one epoch has multiple events. Only the latency of the first event will be retained.\n",
      "  eeglab_obj = read_epochs_eeglab(each)\n",
      "<ipython-input-43-8230839eefad>:9: RuntimeWarning: The following EEG sensors did not have a position specified in the selected montage: ['pulse', 'GSR']. Their position has been left untouched.\n",
      "  eeglab_obj = read_epochs_eeglab(each)\n"
     ]
    },
    {
     "name": "stdout",
     "output_type": "stream",
     "text": [
      "Extracting parameters from /home/user/Desktop/EEG_data/Static/subj13/subj13_s_android.set...\n",
      "92 matching events found\n",
      "No baseline correction applied\n",
      "Not setting metadata\n",
      "0 projection items activated\n",
      "Ready.\n",
      "Applying baseline correction (mode: mean)\n"
     ]
    },
    {
     "name": "stderr",
     "output_type": "stream",
     "text": [
      "<ipython-input-43-8230839eefad>:9: RuntimeWarning: At least one epoch has multiple events. Only the latency of the first event will be retained.\n",
      "  eeglab_obj = read_epochs_eeglab(each)\n",
      "<ipython-input-43-8230839eefad>:9: RuntimeWarning: The following EEG sensors did not have a position specified in the selected montage: ['pulse', 'GSR']. Their position has been left untouched.\n",
      "  eeglab_obj = read_epochs_eeglab(each)\n"
     ]
    },
    {
     "name": "stdout",
     "output_type": "stream",
     "text": [
      "Extracting parameters from /home/user/Desktop/EEG_data/Static/subj17/subj17_s_human.set...\n",
      "95 matching events found\n",
      "No baseline correction applied\n",
      "Not setting metadata\n",
      "0 projection items activated\n",
      "Ready.\n",
      "Applying baseline correction (mode: mean)\n"
     ]
    },
    {
     "name": "stderr",
     "output_type": "stream",
     "text": [
      "<ipython-input-43-8230839eefad>:9: RuntimeWarning: At least one epoch has multiple events. Only the latency of the first event will be retained.\n",
      "  eeglab_obj = read_epochs_eeglab(each)\n",
      "<ipython-input-43-8230839eefad>:9: RuntimeWarning: The following EEG sensors did not have a position specified in the selected montage: ['pulse', 'GSR']. Their position has been left untouched.\n",
      "  eeglab_obj = read_epochs_eeglab(each)\n"
     ]
    },
    {
     "name": "stdout",
     "output_type": "stream",
     "text": [
      "Extracting parameters from /home/user/Desktop/EEG_data/Static/subj17/subj17_s_robot.set...\n",
      "94 matching events found\n",
      "No baseline correction applied\n",
      "Not setting metadata\n",
      "0 projection items activated\n",
      "Ready.\n",
      "Applying baseline correction (mode: mean)\n"
     ]
    },
    {
     "name": "stderr",
     "output_type": "stream",
     "text": [
      "<ipython-input-43-8230839eefad>:9: RuntimeWarning: At least one epoch has multiple events. Only the latency of the first event will be retained.\n",
      "  eeglab_obj = read_epochs_eeglab(each)\n",
      "<ipython-input-43-8230839eefad>:9: RuntimeWarning: The following EEG sensors did not have a position specified in the selected montage: ['pulse', 'GSR']. Their position has been left untouched.\n",
      "  eeglab_obj = read_epochs_eeglab(each)\n"
     ]
    },
    {
     "name": "stdout",
     "output_type": "stream",
     "text": [
      "Extracting parameters from /home/user/Desktop/EEG_data/Static/subj17/subj17_s_android.set...\n",
      "95 matching events found\n",
      "No baseline correction applied\n",
      "Not setting metadata\n",
      "0 projection items activated\n",
      "Ready.\n",
      "Applying baseline correction (mode: mean)\n"
     ]
    },
    {
     "name": "stderr",
     "output_type": "stream",
     "text": [
      "<ipython-input-43-8230839eefad>:9: RuntimeWarning: At least one epoch has multiple events. Only the latency of the first event will be retained.\n",
      "  eeglab_obj = read_epochs_eeglab(each)\n",
      "<ipython-input-43-8230839eefad>:9: RuntimeWarning: The following EEG sensors did not have a position specified in the selected montage: ['pulse', 'GSR']. Their position has been left untouched.\n",
      "  eeglab_obj = read_epochs_eeglab(each)\n"
     ]
    },
    {
     "name": "stdout",
     "output_type": "stream",
     "text": [
      "Extracting parameters from /home/user/Desktop/EEG_data/Static/subj03/subj03_s_human.set...\n",
      "98 matching events found\n",
      "No baseline correction applied\n",
      "Not setting metadata\n",
      "0 projection items activated\n",
      "Ready.\n",
      "Applying baseline correction (mode: mean)\n"
     ]
    },
    {
     "name": "stderr",
     "output_type": "stream",
     "text": [
      "<ipython-input-43-8230839eefad>:9: RuntimeWarning: At least one epoch has multiple events. Only the latency of the first event will be retained.\n",
      "  eeglab_obj = read_epochs_eeglab(each)\n",
      "<ipython-input-43-8230839eefad>:9: RuntimeWarning: The following EEG sensors did not have a position specified in the selected montage: ['pulse', 'GSR']. Their position has been left untouched.\n",
      "  eeglab_obj = read_epochs_eeglab(each)\n"
     ]
    },
    {
     "name": "stdout",
     "output_type": "stream",
     "text": [
      "Extracting parameters from /home/user/Desktop/EEG_data/Static/subj03/subj03_s_android.set...\n",
      "101 matching events found\n",
      "No baseline correction applied\n",
      "Not setting metadata\n",
      "0 projection items activated\n",
      "Ready.\n",
      "Applying baseline correction (mode: mean)\n"
     ]
    },
    {
     "name": "stderr",
     "output_type": "stream",
     "text": [
      "<ipython-input-43-8230839eefad>:9: RuntimeWarning: At least one epoch has multiple events. Only the latency of the first event will be retained.\n",
      "  eeglab_obj = read_epochs_eeglab(each)\n",
      "<ipython-input-43-8230839eefad>:9: RuntimeWarning: The following EEG sensors did not have a position specified in the selected montage: ['pulse', 'GSR']. Their position has been left untouched.\n",
      "  eeglab_obj = read_epochs_eeglab(each)\n"
     ]
    },
    {
     "name": "stdout",
     "output_type": "stream",
     "text": [
      "Extracting parameters from /home/user/Desktop/EEG_data/Static/subj03/subj03_s_robot.set...\n",
      "102 matching events found\n",
      "No baseline correction applied\n",
      "Not setting metadata\n",
      "0 projection items activated\n",
      "Ready.\n",
      "Applying baseline correction (mode: mean)\n"
     ]
    },
    {
     "name": "stderr",
     "output_type": "stream",
     "text": [
      "<ipython-input-43-8230839eefad>:9: RuntimeWarning: At least one epoch has multiple events. Only the latency of the first event will be retained.\n",
      "  eeglab_obj = read_epochs_eeglab(each)\n",
      "<ipython-input-43-8230839eefad>:9: RuntimeWarning: The following EEG sensors did not have a position specified in the selected montage: ['pulse', 'GSR']. Their position has been left untouched.\n",
      "  eeglab_obj = read_epochs_eeglab(each)\n"
     ]
    }
   ],
   "source": [
    "# Get the files.\n",
    "# Print Information.\n",
    "# Store needed information.\n",
    "directory = '/home/user/Desktop/EEG_data/Static/'\n",
    "for each in glob.glob(directory + \"*/*.set\"): \n",
    "  \n",
    "    subj = each.replace(directory,\"\")\n",
    "    # read epochs object\n",
    "    eeglab_obj = read_epochs_eeglab(each)\n",
    "    \n",
    "    # apply baseline\n",
    "    eeglab_obj.apply_baseline((-0.2,0))\n",
    "\n",
    "    # remove channels\n",
    "    eeglab_obj.pick_channels([ \"Fz\", \"F3\", \"F7\" , \"FT9\" , \"FC5\", \"FC1\", \"C3\", \"T7\", \"TP9\" , \"CP5\",\\\n",
    "                             \"CP1\", \"Pz\", \"P3\", \"P7\", \"O1\", \"Oz\", \"O2\", \"P4\", \"P8\", \"TP10\",\\\n",
    "                             \"CP6\", \"CP2\", \"Cz\", \"C4\", \"T8\", \"FT10\", \"FC6\", \"FC2\", \"F4\", \"F8\",\\\n",
    "                             \"AF7\" ,\"AF3\", \"AFz\"  , \"F1\",\"F5\" , \"FT7\", \"FC3\" ,\"FCz\" , \"C1\", \"C5\", \\\n",
    "                             \"TP7\", \"CP3\" ,\"P1\" , \"P5\", \"PO7\", \"PO3\", \"POz\", \"PO4\", \"PO8\", \"P6\", \\\n",
    "                             \"P2\", \"CPz\", \"CP4\", \"TP8\", \"C6\", \"C2\", \"FC4\", \"FT8\", \"F6\", \"F2\", \"AF4\", \"AF8\"])\n",
    "    # visualize\n",
    "    #fig  = eeglab_obj.plot_image()\n",
    "    # None\n",
    "    \n",
    "    # store for the project\n",
    "    data = eeglab_obj.get_data()\n",
    "    # roll axis in order to settle down to previous layout of problem\n",
    "    rolled_data = np.rollaxis(data, 2)\n",
    "    rolled_data = np.rollaxis(rolled_data, 2)\n",
    "    \n",
    "    name = subj[7:].replace(\"set\",\"mat\")\n",
    "    each.replace(\"set\",\"mat\")\n",
    "    scipy.io.savemat( each.replace(\"set\",\"mat\"), { name.replace(\".mat\",\"\").replace(\"_s_\",\"_static_\"): rolled_data})"
   ]
  },
  {
   "cell_type": "code",
   "execution_count": null,
   "metadata": {},
   "outputs": [],
   "source": []
  }
 ],
 "metadata": {
  "kernelspec": {
   "display_name": "Python 3",
   "language": "python",
   "name": "python3"
  },
  "language_info": {
   "codemirror_mode": {
    "name": "ipython",
    "version": 3
   },
   "file_extension": ".py",
   "mimetype": "text/x-python",
   "name": "python",
   "nbconvert_exporter": "python",
   "pygments_lexer": "ipython3",
   "version": "3.7.3"
  }
 },
 "nbformat": 4,
 "nbformat_minor": 2
}
