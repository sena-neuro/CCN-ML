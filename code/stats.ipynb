{
 "cells": [
  {
   "cell_type": "code",
   "execution_count": 3,
   "metadata": {},
   "outputs": [],
   "source": [
    "# import libraries\n",
    "import json\n",
    "import statsmodels.stats.multitest as smm\n",
    "import scipy.stats as stats\n",
    "import glob"
   ]
  },
  {
   "cell_type": "code",
   "execution_count": 6,
   "metadata": {},
   "outputs": [
    {
     "data": {
      "text/plain": [
       "['/home/doren/Desktop/CCN-ML/code/0_700/E100w50s/accuracy_results.json',\n",
       " '/home/doren/Desktop/CCN-ML/code/0_700/E50w50s/accuracy_results.json',\n",
       " '/home/doren/Desktop/CCN-ML/code/0_700/E50w25s/accuracy_results.json',\n",
       " '/home/doren/Desktop/CCN-ML/code/0_700/E100w100s/accuracy_results.json',\n",
       " '/home/doren/Desktop/CCN-ML/code/0_700/E20w20s/accuracy_results.json',\n",
       " '/home/doren/Desktop/CCN-ML/code/0_700/E40w20s/accuracy_results.json',\n",
       " '/home/doren/Desktop/CCN-ML/code/0_700/E25w25s/accuracy_results.json',\n",
       " '/home/doren/Desktop/CCN-ML/code/0_700/E100w25s/accuracy_results.json']"
      ]
     },
     "execution_count": 6,
     "metadata": {},
     "output_type": "execute_result"
    }
   ],
   "source": [
    "configfiles = glob.glob('/home/doren/Desktop/CCN-ML/code/0_700/*/*.json')\n",
    "configfiles"
   ]
  },
  {
   "cell_type": "code",
   "execution_count": 7,
   "metadata": {},
   "outputs": [
    {
     "name": "stdout",
     "output_type": "stream",
     "text": [
      "13\n"
     ]
    },
    {
     "ename": "IndexError",
     "evalue": "list index out of range",
     "output_type": "error",
     "traceback": [
      "\u001b[0;31m---------------------------------------------------------------------------\u001b[0m",
      "\u001b[0;31mIndexError\u001b[0m                                Traceback (most recent call last)",
      "\u001b[0;32m<ipython-input-7-9969303be2e2>\u001b[0m in \u001b[0;36m<module>\u001b[0;34m\u001b[0m\n\u001b[1;32m      8\u001b[0m     \u001b[0mprint\u001b[0m\u001b[0;34m(\u001b[0m\u001b[0mn_windows\u001b[0m\u001b[0;34m)\u001b[0m\u001b[0;34m\u001b[0m\u001b[0;34m\u001b[0m\u001b[0m\n\u001b[1;32m      9\u001b[0m     \u001b[0maccuracies_per_window\u001b[0m \u001b[0;34m=\u001b[0m \u001b[0;34m[\u001b[0m \u001b[0;34m[\u001b[0m \u001b[0mlist\u001b[0m\u001b[0;34m(\u001b[0m\u001b[0msubject\u001b[0m\u001b[0;34m.\u001b[0m\u001b[0mvalues\u001b[0m\u001b[0;34m(\u001b[0m\u001b[0;34m)\u001b[0m\u001b[0;34m)\u001b[0m\u001b[0;34m[\u001b[0m\u001b[0mi\u001b[0m\u001b[0;34m]\u001b[0m \u001b[0;32mfor\u001b[0m \u001b[0msubject\u001b[0m \u001b[0;32min\u001b[0m \u001b[0maccuracies\u001b[0m\u001b[0;34m.\u001b[0m\u001b[0mvalues\u001b[0m\u001b[0;34m(\u001b[0m\u001b[0;34m)\u001b[0m \u001b[0;34m]\u001b[0m \u001b[0;32mfor\u001b[0m \u001b[0mi\u001b[0m \u001b[0;32min\u001b[0m \u001b[0mrange\u001b[0m\u001b[0;34m(\u001b[0m\u001b[0;36m0\u001b[0m\u001b[0;34m,\u001b[0m \u001b[0mn_windows\u001b[0m\u001b[0;34m)\u001b[0m\u001b[0;34m]\u001b[0m\u001b[0;34m\u001b[0m\u001b[0;34m\u001b[0m\u001b[0m\n\u001b[0;32m---> 10\u001b[0;31m     \u001b[0maccuracies_per_window\u001b[0m\u001b[0;34m[\u001b[0m\u001b[0;36m15\u001b[0m\u001b[0;34m]\u001b[0m\u001b[0;34m\u001b[0m\u001b[0;34m\u001b[0m\u001b[0m\n\u001b[0m\u001b[1;32m     11\u001b[0m     \u001b[0mstats\u001b[0m\u001b[0;34m.\u001b[0m\u001b[0mttest_1samp\u001b[0m\u001b[0;34m(\u001b[0m\u001b[0maccuracies_per_window\u001b[0m\u001b[0;34m,\u001b[0m \u001b[0;36m0.33333\u001b[0m\u001b[0;34m)\u001b[0m\u001b[0;34m\u001b[0m\u001b[0;34m\u001b[0m\u001b[0m\n\u001b[1;32m     12\u001b[0m     \u001b[0mpval_raw\u001b[0m \u001b[0;34m=\u001b[0m \u001b[0;34m[\u001b[0m\u001b[0;34m]\u001b[0m\u001b[0;34m\u001b[0m\u001b[0;34m\u001b[0m\u001b[0m\n",
      "\u001b[0;31mIndexError\u001b[0m: list index out of range"
     ]
    }
   ],
   "source": [
    "for x in configfiles:\n",
    "    with open(x, 'r') as f:\n",
    "        accuracies = json.load(f)\n",
    "    accuracies.keys()\n",
    "    avg_accuracies = accuracies.pop('avg_all')\n",
    "    accuracies.keys()\n",
    "    n_windows = len(list(accuracies.values())[0])\n",
    "    print(n_windows)\n",
    "    accuracies_per_window = [ [ list(subject.values())[i] for subject in accuracies.values() ] for i in range(0, n_windows)]\n",
    "    accuracies_per_window[15]\n",
    "    stats.ttest_1samp(accuracies_per_window, 0.33333)\n",
    "    pval_raw = []\n",
    "    for window_acc in accuracies_per_window:\n",
    "        pval_raw.append(stats.ttest_1samp(window_acc, 0.33333)[-1])\n",
    "    #pval_raw\n",
    "\n",
    "    rej_relax, pval_cor_relax   = smm.multipletests(pval_raw, method='b')[:2]\n",
    "    rej_strict, pval_cor_strict = smm.multipletests(pval_raw, method='b', alpha=0.01)[:2]\n",
    "    sig_strict = [eval(list(list(accuracies.values())[0].keys())[i]) for i, isRej in enumerate(rej_strict) if isRej]\n",
    "    sig_relax = [eval(list(list(accuracies.values())[0].keys())[i]) for i, isRej in enumerate(rej_relax) if isRej]\n",
    "    import matplotlib.pyplot as plt\n",
    "    time_ranges = [ eval(w)[0] for w in list(accuracies.values())[0].keys() ] \n",
    "    avg_accuracies"
   ]
  },
  {
   "cell_type": "code",
   "execution_count": 11,
   "metadata": {
    "collapsed": true
   },
   "outputs": [],
   "source": []
  },
  {
   "cell_type": "code",
   "execution_count": 12,
   "metadata": {
    "collapsed": true
   },
   "outputs": [
    {
     "data": {
      "text/plain": [
       "[0.5594636163455944,\n",
       " 0.7358418710211627,\n",
       " 0.7821835282937781,\n",
       " 0.7053924226417939,\n",
       " 0.8845002629610463,\n",
       " 0.21580285871455673,\n",
       " 0.0016892089362808387,\n",
       " 0.0002774173555049311,\n",
       " 0.00012425502006427927,\n",
       " 9.10347820238772e-05,\n",
       " 0.002817761491347662,\n",
       " 0.00409325555775798,\n",
       " 0.0737169896536679,\n",
       " 0.09417396041750542,\n",
       " 0.4714861233962556,\n",
       " 0.7357968580983234,\n",
       " 0.2358912211495206,\n",
       " 0.2770384633402578,\n",
       " 0.5263217516303548]"
      ]
     },
     "execution_count": 12,
     "metadata": {},
     "output_type": "execute_result"
    }
   ],
   "source": []
  },
  {
   "cell_type": "code",
   "execution_count": 13,
   "metadata": {
    "collapsed": true
   },
   "outputs": [],
   "source": []
  },
  {
   "cell_type": "code",
   "execution_count": 14,
   "metadata": {},
   "outputs": [
    {
     "data": {
      "text/plain": [
       "[(140, 180), (160, 200), (180, 220)]"
      ]
     },
     "execution_count": 14,
     "metadata": {},
     "output_type": "execute_result"
    }
   ],
   "source": []
  },
  {
   "cell_type": "code",
   "execution_count": 15,
   "metadata": {
    "collapsed": true
   },
   "outputs": [
    {
     "data": {
      "text/plain": [
       "[(120, 160), (140, 180), (160, 200), (180, 220)]"
      ]
     },
     "execution_count": 15,
     "metadata": {},
     "output_type": "execute_result"
    }
   ],
   "source": []
  },
  {
   "cell_type": "code",
   "execution_count": 16,
   "metadata": {
    "collapsed": true
   },
   "outputs": [
    {
     "data": {
      "text/plain": [
       "[0,\n",
       " 20,\n",
       " 40,\n",
       " 60,\n",
       " 80,\n",
       " 100,\n",
       " 120,\n",
       " 140,\n",
       " 160,\n",
       " 180,\n",
       " 200,\n",
       " 220,\n",
       " 240,\n",
       " 260,\n",
       " 280,\n",
       " 300,\n",
       " 320,\n",
       " 340,\n",
       " 360]"
      ]
     },
     "execution_count": 16,
     "metadata": {},
     "output_type": "execute_result"
    }
   ],
   "source": []
  },
  {
   "cell_type": "code",
   "execution_count": 38,
   "metadata": {
    "collapsed": true
   },
   "outputs": [
    {
     "data": {
      "text/plain": [
       "[(120, 160), (140, 180), (160, 200), (180, 220)]"
      ]
     },
     "execution_count": 38,
     "metadata": {},
     "output_type": "execute_result"
    }
   ],
   "source": []
  },
  {
   "cell_type": "code",
   "execution_count": 47,
   "metadata": {},
   "outputs": [
    {
     "data": {
      "text/plain": [
       "{'(0, 40)': 0.32272876703769976,\n",
       " '(20, 60)': 0.3280853027552183,\n",
       " '(40, 80)': 0.3288965380254459,\n",
       " '(60, 100)': 0.3274458048469492,\n",
       " '(80, 120)': 0.33652635460857777,\n",
       " '(100, 140)': 0.3735202700141434,\n",
       " '(120, 160)': 0.5400089170665106,\n",
       " '(140, 180)': 0.5824357396522148,\n",
       " '(160, 200)': 0.5627628631509484,\n",
       " '(180, 220)': 0.4619333319585257,\n",
       " '(200, 240)': 0.4225734722299215,\n",
       " '(220, 260)': 0.41585401322881865,\n",
       " '(240, 280)': 0.3724196158416786,\n",
       " '(260, 300)': 0.3759683076994644,\n",
       " '(280, 320)': 0.3415900220542822,\n",
       " '(300, 340)': 0.34052894965743336,\n",
       " '(320, 360)': 0.36459613682493314,\n",
       " '(340, 380)': 0.35753927979649336,\n",
       " '(360, 400)': 0.3263272216564155}"
      ]
     },
     "execution_count": 47,
     "metadata": {},
     "output_type": "execute_result"
    }
   ],
   "source": [
    "\n"
   ]
  },
  {
   "cell_type": "code",
   "execution_count": 64,
   "metadata": {},
   "outputs": [],
   "source": [
    "\n",
    "sig_re_vals = [avg_accuracies[str(key)] for key in sig_relax]\n",
    "sig_re_x = [wind[0]*2 for wind in sig_relax]\n",
    "sig_st_vals = [avg_accuracies[str(key)] for key in sig_strict]\n",
    "sig_st_x = [wind[0]*2 for wind in sig_strict]\n",
    "\n"
   ]
  },
  {
   "cell_type": "code",
   "execution_count": 66,
   "metadata": {},
   "outputs": [
    {
     "data": {
      "text/plain": [
       "[240, 280, 320, 360]"
      ]
     },
     "execution_count": 66,
     "metadata": {},
     "output_type": "execute_result"
    }
   ],
   "source": [
    "sig_re_x"
   ]
  },
  {
   "cell_type": "code",
   "execution_count": 63,
   "metadata": {
    "collapsed": true
   },
   "outputs": [
    {
     "data": {
      "text/plain": [
       "<Figure size 432x288 with 0 Axes>"
      ]
     },
     "execution_count": 0,
     "metadata": {},
     "output_type": "execute_result"
    },
    {
     "data": {
      "image/png": "[encoded data removed]",
      "text/plain": [
       "<Figure size 432x288 with 1 Axes>"
      ]
     },
     "metadata": {},
     "output_type": "display_data"
    }
   ],
   "source": [
    "# mark = [vals.index(i) for i in roots]\n",
    "# print(mark)\n",
    "# plt.plot(vals,poly,markevery=mark, ls=\"\", marker=\"o\", label=\"points\")\n",
    "\n",
    "plt.clf()\n",
    "\n",
    "fig, ax = plt.subplots()\n",
    "\n",
    "time_ranges_ms = [ tr*2 for tr in time_ranges]\n",
    "ax.plot(time_ranges_ms, list(avg_accuracies.values()))\n",
    "ax.plot(sig_st_x,sig_st_vals,\n",
    "        linestyle='none', color='r', marker='o')\n",
    "ax.plot(sig_re_x,sig_re_vals,\n",
    "        linestyle='none', color='b', marker='o')\n",
    "ax.axvline(x=200, color='black', alpha=0.5, linestyle='--', label='end of baseline period')\n",
    "ax.axhline(y=0.33, color='red', alpha=0.5, label='chance level')\n",
    "ax.legend(loc='upper right')\n",
    "\n",
    "ax.set_title('Classification accuracies for window size of 80 ms with a shift of 40 ms')\n",
    "# for win in sig_relax:\n",
    "#     plt.axvspan(win[0], win[1], facecolor='blue', alpha=0.15)\n",
    "# \n",
    "# for win in sig_strict:\n",
    "#     plt.axvspan(win[0], win[1], facecolor='red', alpha=0.3)\n",
    "\n",
    "fig.savefig(\"/home/sena/Desktop/\"+ 'avg_accuracy.png', bbox_inches='tight')\n",
    "plt.show()\n"
   ]
  }
 ],
 "metadata": {
  "kernelspec": {
   "display_name": "Python 3",
   "language": "python",
   "name": "python3"
  },
  "language_info": {
   "codemirror_mode": {
    "name": "ipython",
    "version": 3
   },
   "file_extension": ".py",
   "mimetype": "text/x-python",
   "name": "python",
   "nbconvert_exporter": "python",
   "pygments_lexer": "ipython3",
   "version": "3.7.2"
  }
 },
 "nbformat": 4,
 "nbformat_minor": 1
}
