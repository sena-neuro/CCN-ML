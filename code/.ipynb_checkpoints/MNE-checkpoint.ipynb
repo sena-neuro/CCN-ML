{
 "cells": [
  {
   "cell_type": "code",
   "execution_count": 1,
   "metadata": {},
   "outputs": [],
   "source": [
    "import mne\n",
    "#original_data = mne.io.read_raw_fiff('original_data.mat', preload=False)"
   ]
  },
  {
   "cell_type": "code",
   "execution_count": 3,
   "metadata": {},
   "outputs": [],
   "source": [
    "import os\n",
    "\n",
    "from numpy.testing import assert_array_equal\n",
    "from mne.io import read_raw_brainvision\n",
    "\n",
    "from mne_bids.datasets import fetch_brainvision_testing_data\n",
    "from mne_bids.copyfiles import copyfile_brainvision"
   ]
  },
  {
   "cell_type": "raw",
   "metadata": {},
   "source": [
    "examples_dir = fetch_brainvision_testing_data()"
   ]
  },
  {
   "cell_type": "raw",
   "metadata": {},
   "source": [
    "vhdr_file = os.path.join(examples_dir, 'test.vhdr')\n",
    "vhdr_file_renamed = os.path.join(examples_dir, 'test_renamed.vhdr')\n",
    "copyfile_brainvision(vhdr_file, vhdr_file_renamed)"
   ]
  },
  {
   "cell_type": "raw",
   "metadata": {},
   "source": [
    "raw         = read_raw_brainvision(vhdr_file)\n",
    "raw_renamed = read_raw_brainvision(vhdr_file_renamed)\n",
    "\n",
    "assert_array_equal(raw.get_data(), raw_renamed.get_data())"
   ]
  },
  {
   "cell_type": "code",
   "execution_count": null,
   "metadata": {},
   "outputs": [],
   "source": [
    "mne.io.read_raw_brainvision(\"130627CS.vhdr\")"
   ]
  }
 ],
 "metadata": {
  "kernelspec": {
   "display_name": "Python 3",
   "language": "python",
   "name": "python3"
  },
  "language_info": {
   "codemirror_mode": {
    "name": "ipython",
    "version": 3
   },
   "file_extension": ".py",
   "mimetype": "text/x-python",
   "name": "python",
   "nbconvert_exporter": "python",
   "pygments_lexer": "ipython3",
   "version": "3.7.3"
  }
 },
 "nbformat": 4,
 "nbformat_minor": 2
}
