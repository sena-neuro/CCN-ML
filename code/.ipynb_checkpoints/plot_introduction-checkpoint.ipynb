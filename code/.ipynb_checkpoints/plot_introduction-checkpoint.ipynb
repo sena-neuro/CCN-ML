{
 "cells": [
  {
   "cell_type": "code",
   "execution_count": null,
   "metadata": {},
   "outputs": [],
   "source": [
    "%matplotlib inline"
   ]
  },
  {
   "cell_type": "markdown",
   "metadata": {},
   "source": [
    "\n",
    "Basic MEG and EEG data processing\n",
    "=================================\n",
    "\n",
    "![](http://mne-tools.github.io/stable/_static/mne_logo.png)\n",
    "\n",
    "\n",
    "MNE-Python reimplements most of MNE-C's (the original MNE command line utils)\n",
    "functionality and offers transparent scripting.\n",
    "On top of that it extends MNE-C's functionality considerably\n",
    "(customize events, compute contrasts, group statistics, time-frequency\n",
    "analysis, EEG-sensor space analyses, etc.) It uses the same files as standard\n",
    "MNE unix commands: no need to convert your files to a new system or database.\n",
    "\n",
    "This package is based on the FIF file format from Neuromag. It\n",
    "can read and convert CTF, BTI/4D, KIT and various EEG formats to FIF.\n",
    "\n",
    "What you can do with MNE Python\n",
    "-------------------------------\n",
    "\n",
    "- **Raw data visualization** to visualize recordings, can also use\n",
    "  *mne_browse_raw* for extended functionality (see `ch_browse`)\n",
    "- **Epoching**: Define epochs, baseline correction, handle conditions etc.\n",
    "- **Averaging** to get Evoked data\n",
    "- **Compute SSP projectors** to remove ECG and EOG artifacts\n",
    "- **Compute ICA** to remove artifacts or select latent sources.\n",
    "- **Maxwell filtering** to remove environmental noise.\n",
    "- **Boundary Element Modeling**: single and three-layer BEM model\n",
    "  creation and solution computation.\n",
    "- **Forward modeling**: BEM computation and mesh creation\n",
    "  (see `ch_forward`)\n",
    "- **Linear inverse solvers** (MNE, dSPM, sLORETA, eLORETA, LCMV, DICS)\n",
    "- **Sparse inverse solvers** (L1/L2 mixed norm MxNE, Gamma Map,\n",
    "  Time-Frequency MxNE)\n",
    "- **Connectivity estimation** in sensor and source space\n",
    "- **Visualization of sensor and source space data**\n",
    "- **Time-frequency** analysis with Morlet wavelets (induced power,\n",
    "  intertrial coherence, phase lock value) also in the source space\n",
    "- **Spectrum estimation** using multi-taper method\n",
    "- **Mixed Source Models** combining cortical and subcortical structures\n",
    "- **Dipole Fitting**\n",
    "- **Decoding** multivariate pattern analysis of M/EEG topographies\n",
    "- **Compute contrasts** between conditions, between sensors, across\n",
    "  subjects etc.\n",
    "- **Non-parametric statistics** in time, space and frequency\n",
    "  (including cluster-level)\n",
    "- **Scripting** (batch and parallel computing)\n",
    "\n",
    "What you're not supposed to do with MNE Python\n",
    "----------------------------------------------\n",
    "\n",
    "- **Brain and head surface segmentation** for use with BEM\n",
    "  models -- use Freesurfer.\n",
    "\n",
    "Installation of the required materials\n",
    "---------------------------------------\n",
    "\n",
    "See `install_python_and_mne_python`.\n",
    "\n",
    "From raw data to evoked data\n",
    "----------------------------\n",
    "\n",
    "\n",
    "Now, launch `ipython`_ (Advanced Python shell) using the QT backend, which\n",
    "is best supported across systems:\n",
    "\n",
    ".. code-block:: console\n",
    "\n",
    "    $ ipython --matplotlib=qt\n",
    "\n",
    "<div class=\"alert alert-info\"><h4>Note</h4><p>In IPython, you can press **shift-enter** with a given cell\n",
    "          selected to execute it and advance to the next cell.\n",
    "\n",
    "          Also, the standard location for the MNE-sample data is\n",
    "          ``~/mne_data``. If you downloaded data and an example asks you\n",
    "          whether to download it again, make sure the data reside in the\n",
    "          examples directory and you run the script from its current directory.\n",
    "\n",
    "          From IPython e.g. say:\n",
    "\n",
    "          .. code-block:: IPython\n",
    "\n",
    "              In [1]: cd examples/preprocessing\n",
    "              In [2]: %run plot_find_ecg_artifacts.py</p></div>\n",
    "\n",
    "First, load the mne package:\n",
    "\n"
   ]
  },
  {
   "cell_type": "code",
   "execution_count": 1,
   "metadata": {},
   "outputs": [],
   "source": [
    "import mne"
   ]
  },
  {
   "cell_type": "markdown",
   "metadata": {},
   "source": [
    "If you'd like to turn information status messages off:\n",
    "\n"
   ]
  },
  {
   "cell_type": "code",
   "execution_count": 2,
   "metadata": {},
   "outputs": [],
   "source": [
    "mne.set_log_level('WARNING')"
   ]
  },
  {
   "cell_type": "markdown",
   "metadata": {},
   "source": [
    "But it's generally a good idea to leave them on:\n",
    "\n"
   ]
  },
  {
   "cell_type": "code",
   "execution_count": 3,
   "metadata": {},
   "outputs": [],
   "source": [
    "mne.set_log_level('INFO')"
   ]
  },
  {
   "cell_type": "markdown",
   "metadata": {},
   "source": [
    "You can set the default level in every session by setting the environment\n",
    "variable \"MNE_LOGGING_LEVEL\", or by having mne-python write preferences to a\n",
    "file with::\n",
    "\n",
    "    >>> mne.set_config('MNE_LOGGING_LEVEL', 'WARNING')\n",
    "\n",
    "Note that the location of the mne-python preferences file (for easier manual\n",
    "editing) can be found using:\n",
    "\n"
   ]
  },
  {
   "cell_type": "code",
   "execution_count": 4,
   "metadata": {},
   "outputs": [
    {
     "name": "stdout",
     "output_type": "stream",
     "text": [
      "/home/doren/.mne/mne-python.json\n"
     ]
    }
   ],
   "source": [
    "print(mne.get_config_path())"
   ]
  },
  {
   "cell_type": "markdown",
   "metadata": {},
   "source": [
    "By default logging messages print to the console, but look at\n",
    ":func:`mne.set_log_file` to save output to a file.\n",
    "\n",
    "Access raw data\n",
    "^^^^^^^^^^^^^^^\n",
    "\n"
   ]
  },
  {
   "cell_type": "raw",
   "metadata": {},
   "source": [
    "from mne.datasets import sample  # noqa\n",
    "data_path = sample.data_path()\n",
    "raw_fname = data_path + '/MEG/sample/sample_audvis_filt-0-40_raw.fif'\n",
    "print(raw_fname)"
   ]
  },
  {
   "cell_type": "markdown",
   "metadata": {},
   "source": [
    "<div class=\"alert alert-info\"><h4>Note</h4><p>The MNE sample dataset should be downloaded automatically but be\n",
    "          patient (approx. 2GB)</p></div>\n",
    "\n",
    "Read data from file:\n",
    "\n"
   ]
  },
  {
   "cell_type": "code",
   "execution_count": 6,
   "metadata": {},
   "outputs": [
    {
     "name": "stdout",
     "output_type": "stream",
     "text": [
      "Extracting parameters from 130627CS.vhdr...\n",
      "Setting channel info structure...\n"
     ]
    },
    {
     "name": "stderr",
     "output_type": "stream",
     "text": [
      "<ipython-input-6-9834479f703d>:1: DeprecationWarning: stim_channel (default True in 0.17) will change to False in 0.18 and be removed in 0.19, set it to False in 0.17 to avoid this warning\n",
      "  raw = mne.io.read_raw_brainvision('130627CS.vhdr')\n"
     ]
    },
    {
     "ename": "RuntimeError",
     "evalue": "Ambiguous operation. Setting an Annotation object with known ``orig_time`` to a raw object which has ``meas_date`` set to None is ambiguous. Please, either set a meaningful ``meas_date`` to the raw object; or set ``orig_time`` to None in which case the annotation onsets would be taken in reference to the first sample of the raw object.",
     "output_type": "error",
     "traceback": [
      "\u001b[0;31m---------------------------------------------------------------------------\u001b[0m",
      "\u001b[0;31mRuntimeError\u001b[0m                              Traceback (most recent call last)",
      "\u001b[0;32m<ipython-input-6-9834479f703d>\u001b[0m in \u001b[0;36m<module>\u001b[0;34m\u001b[0m\n\u001b[0;32m----> 1\u001b[0;31m \u001b[0mraw\u001b[0m \u001b[0;34m=\u001b[0m \u001b[0mmne\u001b[0m\u001b[0;34m.\u001b[0m\u001b[0mio\u001b[0m\u001b[0;34m.\u001b[0m\u001b[0mread_raw_brainvision\u001b[0m\u001b[0;34m(\u001b[0m\u001b[0;34m'130627CS.vhdr'\u001b[0m\u001b[0;34m)\u001b[0m\u001b[0;34m\u001b[0m\u001b[0;34m\u001b[0m\u001b[0m\n\u001b[0m\u001b[1;32m      2\u001b[0m \u001b[0mprint\u001b[0m\u001b[0;34m(\u001b[0m\u001b[0mraw\u001b[0m\u001b[0;34m)\u001b[0m\u001b[0;34m\u001b[0m\u001b[0;34m\u001b[0m\u001b[0m\n\u001b[1;32m      3\u001b[0m \u001b[0mprint\u001b[0m\u001b[0;34m(\u001b[0m\u001b[0mraw\u001b[0m\u001b[0;34m.\u001b[0m\u001b[0minfo\u001b[0m\u001b[0;34m)\u001b[0m\u001b[0;34m\u001b[0m\u001b[0;34m\u001b[0m\u001b[0m\n",
      "\u001b[0;32m~/miniconda3/lib/python3.7/site-packages/mne/io/brainvision/brainvision.py\u001b[0m in \u001b[0;36mread_raw_brainvision\u001b[0;34m(vhdr_fname, montage, eog, misc, scale, preload, response_trig_shift, event_id, trig_shift_by_type, stim_channel, verbose)\u001b[0m\n\u001b[1;32m   1084\u001b[0m                           \u001b[0mevent_id\u001b[0m\u001b[0;34m=\u001b[0m\u001b[0mevent_id\u001b[0m\u001b[0;34m,\u001b[0m \u001b[0mverbose\u001b[0m\u001b[0;34m=\u001b[0m\u001b[0mverbose\u001b[0m\u001b[0;34m,\u001b[0m\u001b[0;34m\u001b[0m\u001b[0;34m\u001b[0m\u001b[0m\n\u001b[1;32m   1085\u001b[0m                           \u001b[0mtrig_shift_by_type\u001b[0m\u001b[0;34m=\u001b[0m\u001b[0mtrig_shift_by_type\u001b[0m\u001b[0;34m,\u001b[0m\u001b[0;34m\u001b[0m\u001b[0;34m\u001b[0m\u001b[0m\n\u001b[0;32m-> 1086\u001b[0;31m                           stim_channel=stim_channel)\n\u001b[0m",
      "\u001b[0;32m~/miniconda3/lib/python3.7/site-packages/mne/io/brainvision/brainvision.py\u001b[0m in \u001b[0;36m__init__\u001b[0;34m(self, vhdr_fname, montage, eog, misc, scale, preload, response_trig_shift, event_id, trig_shift_by_type, stim_channel, verbose)\u001b[0m\n",
      "\u001b[0;32m~/miniconda3/lib/python3.7/site-packages/mne/utils.py\u001b[0m in \u001b[0;36mverbose\u001b[0;34m(function, *args, **kwargs)\u001b[0m\n\u001b[1;32m    950\u001b[0m         \u001b[0;32mwith\u001b[0m \u001b[0muse_log_level\u001b[0m\u001b[0;34m(\u001b[0m\u001b[0mverbose_level\u001b[0m\u001b[0;34m)\u001b[0m\u001b[0;34m:\u001b[0m\u001b[0;34m\u001b[0m\u001b[0;34m\u001b[0m\u001b[0m\n\u001b[1;32m    951\u001b[0m             \u001b[0;32mreturn\u001b[0m \u001b[0mfunction\u001b[0m\u001b[0;34m(\u001b[0m\u001b[0;34m*\u001b[0m\u001b[0margs\u001b[0m\u001b[0;34m,\u001b[0m \u001b[0;34m**\u001b[0m\u001b[0mkwargs\u001b[0m\u001b[0;34m)\u001b[0m\u001b[0;34m\u001b[0m\u001b[0;34m\u001b[0m\u001b[0m\n\u001b[0;32m--> 952\u001b[0;31m     \u001b[0;32mreturn\u001b[0m \u001b[0mfunction\u001b[0m\u001b[0;34m(\u001b[0m\u001b[0;34m*\u001b[0m\u001b[0margs\u001b[0m\u001b[0;34m,\u001b[0m \u001b[0;34m**\u001b[0m\u001b[0mkwargs\u001b[0m\u001b[0;34m)\u001b[0m\u001b[0;34m\u001b[0m\u001b[0;34m\u001b[0m\u001b[0m\n\u001b[0m\u001b[1;32m    953\u001b[0m \u001b[0;34m\u001b[0m\u001b[0m\n\u001b[1;32m    954\u001b[0m \u001b[0;34m\u001b[0m\u001b[0m\n",
      "\u001b[0;32m~/miniconda3/lib/python3.7/site-packages/mne/io/brainvision/brainvision.py\u001b[0m in \u001b[0;36m__init__\u001b[0;34m(self, vhdr_fname, montage, eog, misc, scale, preload, response_trig_shift, event_id, trig_shift_by_type, stim_channel, verbose)\u001b[0m\n\u001b[1;32m    170\u001b[0m         \u001b[0;31m# Get annotations from vmrk file\u001b[0m\u001b[0;34m\u001b[0m\u001b[0;34m\u001b[0m\u001b[0;34m\u001b[0m\u001b[0m\n\u001b[1;32m    171\u001b[0m         \u001b[0mannots\u001b[0m \u001b[0;34m=\u001b[0m \u001b[0mread_annotations\u001b[0m\u001b[0;34m(\u001b[0m\u001b[0mmrk_fname\u001b[0m\u001b[0;34m,\u001b[0m \u001b[0minfo\u001b[0m\u001b[0;34m[\u001b[0m\u001b[0;34m'sfreq'\u001b[0m\u001b[0;34m]\u001b[0m\u001b[0;34m)\u001b[0m\u001b[0;34m\u001b[0m\u001b[0;34m\u001b[0m\u001b[0m\n\u001b[0;32m--> 172\u001b[0;31m         \u001b[0mself\u001b[0m\u001b[0;34m.\u001b[0m\u001b[0mset_annotations\u001b[0m\u001b[0;34m(\u001b[0m\u001b[0mannots\u001b[0m\u001b[0;34m)\u001b[0m\u001b[0;34m\u001b[0m\u001b[0;34m\u001b[0m\u001b[0m\n\u001b[0m\u001b[1;32m    173\u001b[0m \u001b[0;34m\u001b[0m\u001b[0m\n\u001b[1;32m    174\u001b[0m         \u001b[0;32mif\u001b[0m \u001b[0mstim_channel\u001b[0m\u001b[0;34m:\u001b[0m\u001b[0;34m\u001b[0m\u001b[0;34m\u001b[0m\u001b[0m\n",
      "\u001b[0;32m~/miniconda3/lib/python3.7/site-packages/mne/io/base.py\u001b[0m in \u001b[0;36mset_annotations\u001b[0;34m(self, annotations, emit_warning, sync_orig)\u001b[0m\n\u001b[1;32m    784\u001b[0m             \u001b[0;32mif\u001b[0m \u001b[0mself\u001b[0m\u001b[0;34m.\u001b[0m\u001b[0minfo\u001b[0m\u001b[0;34m[\u001b[0m\u001b[0;34m'meas_date'\u001b[0m\u001b[0;34m]\u001b[0m \u001b[0;32mis\u001b[0m \u001b[0;32mNone\u001b[0m \u001b[0;32mand\u001b[0m\u001b[0;31m \u001b[0m\u001b[0;31m\\\u001b[0m\u001b[0;34m\u001b[0m\u001b[0;34m\u001b[0m\u001b[0m\n\u001b[1;32m    785\u001b[0m                \u001b[0mannotations\u001b[0m\u001b[0;34m.\u001b[0m\u001b[0morig_time\u001b[0m \u001b[0;32mis\u001b[0m \u001b[0;32mnot\u001b[0m \u001b[0;32mNone\u001b[0m\u001b[0;34m:\u001b[0m\u001b[0;34m\u001b[0m\u001b[0;34m\u001b[0m\u001b[0m\n\u001b[0;32m--> 786\u001b[0;31m                 raise RuntimeError('Ambiguous operation. Setting an Annotation'\n\u001b[0m\u001b[1;32m    787\u001b[0m                                    \u001b[0;34m' object with known ``orig_time`` to a raw'\u001b[0m\u001b[0;34m\u001b[0m\u001b[0;34m\u001b[0m\u001b[0m\n\u001b[1;32m    788\u001b[0m                                    \u001b[0;34m' object which has ``meas_date`` set to'\u001b[0m\u001b[0;34m\u001b[0m\u001b[0;34m\u001b[0m\u001b[0m\n",
      "\u001b[0;31mRuntimeError\u001b[0m: Ambiguous operation. Setting an Annotation object with known ``orig_time`` to a raw object which has ``meas_date`` set to None is ambiguous. Please, either set a meaningful ``meas_date`` to the raw object; or set ``orig_time`` to None in which case the annotation onsets would be taken in reference to the first sample of the raw object."
     ]
    }
   ],
   "source": [
    "raw = mne.io.read_raw_brainvision('130627CS.vhdr')\n",
    "print(raw)\n",
    "print(raw.info)"
   ]
  },
  {
   "cell_type": "markdown",
   "metadata": {},
   "source": [
    "Look at the channels in raw:\n",
    "\n"
   ]
  },
  {
   "cell_type": "code",
   "execution_count": null,
   "metadata": {},
   "outputs": [],
   "source": [
    "print(raw.ch_names)"
   ]
  },
  {
   "cell_type": "markdown",
   "metadata": {},
   "source": [
    "Read and plot a segment of raw data\n",
    "\n"
   ]
  },
  {
   "cell_type": "code",
   "execution_count": null,
   "metadata": {},
   "outputs": [],
   "source": [
    "start, stop = raw.time_as_index([100, 115])  # 100 s to 115 s data segment\n",
    "data, times = raw[:, start:stop]\n",
    "print(data.shape)\n",
    "print(times.shape)\n",
    "data, times = raw[2:20:3, start:stop]  # access underlying data\n",
    "raw.plot()"
   ]
  },
  {
   "cell_type": "markdown",
   "metadata": {},
   "source": [
    "Save a segment of 150s of raw data (MEG only):\n",
    "\n"
   ]
  },
  {
   "cell_type": "code",
   "execution_count": null,
   "metadata": {},
   "outputs": [],
   "source": [
    "raw.save('sample_audvis_meg_raw.fif', tmin=0, tmax=150, picks='meg',\n",
    "         overwrite=True)"
   ]
  },
  {
   "cell_type": "markdown",
   "metadata": {},
   "source": [
    "Define and read epochs\n",
    "^^^^^^^^^^^^^^^^^^^^^^\n",
    "\n",
    "First extract events:\n",
    "\n"
   ]
  },
  {
   "cell_type": "code",
   "execution_count": null,
   "metadata": {},
   "outputs": [],
   "source": [
    "events = mne.find_events(raw, stim_channel='STI 014')\n",
    "print(events[:5])"
   ]
  },
  {
   "cell_type": "markdown",
   "metadata": {},
   "source": [
    "Note that, by default, we use stim_channel='STI 014'. If you have a different\n",
    "system (e.g., a newer system that uses channel 'STI101' by default), you can\n",
    "use the following to set the default stim channel to use for finding events:\n",
    "\n"
   ]
  },
  {
   "cell_type": "code",
   "execution_count": null,
   "metadata": {},
   "outputs": [],
   "source": [
    "mne.set_config('MNE_STIM_CHANNEL', 'STI101', set_env=True)"
   ]
  },
  {
   "cell_type": "markdown",
   "metadata": {},
   "source": [
    "Events are stored as a 2D numpy array where the first column is the time\n",
    "instant and the last one is the event number. It is therefore easy to\n",
    "manipulate.\n",
    "\n",
    "Define epochs parameters:\n",
    "\n"
   ]
  },
  {
   "cell_type": "code",
   "execution_count": null,
   "metadata": {},
   "outputs": [],
   "source": [
    "event_id = dict(aud_l=1, aud_r=2)  # event trigger and conditions\n",
    "tmin = -0.2  # start of each epoch (200ms before the trigger)\n",
    "tmax = 0.5  # end of each epoch (500ms after the trigger)"
   ]
  },
  {
   "cell_type": "markdown",
   "metadata": {},
   "source": [
    "Exclude some channels (original bads + 2 more):\n",
    "\n"
   ]
  },
  {
   "cell_type": "code",
   "execution_count": null,
   "metadata": {},
   "outputs": [],
   "source": [
    "raw.info['bads'] += ['MEG 2443', 'EEG 053']"
   ]
  },
  {
   "cell_type": "markdown",
   "metadata": {},
   "source": [
    "The variable ``raw.info['bads']`` is just a Python list.\n",
    "\n",
    "You can get indices corresponding to the good channels,\n",
    "excluding ``raw.info['bads']``:\n",
    "\n"
   ]
  },
  {
   "cell_type": "code",
   "execution_count": null,
   "metadata": {},
   "outputs": [],
   "source": [
    "picks = mne.pick_types(raw.info, meg=True, eeg=True, eog=True, stim=False,\n",
    "                       exclude='bads')"
   ]
  },
  {
   "cell_type": "markdown",
   "metadata": {},
   "source": [
    "Alternatively one can restrict to magnetometers or gradiometers with:\n",
    "\n"
   ]
  },
  {
   "cell_type": "code",
   "execution_count": null,
   "metadata": {},
   "outputs": [],
   "source": [
    "mag_picks = mne.pick_types(raw.info, meg='mag', eog=True, exclude='bads')\n",
    "grad_picks = mne.pick_types(raw.info, meg='grad', eog=True, exclude='bads')"
   ]
  },
  {
   "cell_type": "markdown",
   "metadata": {},
   "source": [
    "Define the baseline period:\n",
    "\n"
   ]
  },
  {
   "cell_type": "code",
   "execution_count": null,
   "metadata": {},
   "outputs": [],
   "source": [
    "baseline = (None, 0)  # means from the first instant to t = 0"
   ]
  },
  {
   "cell_type": "markdown",
   "metadata": {},
   "source": [
    "Define peak-to-peak rejection parameters for gradiometers, magnetometers\n",
    "and EOG:\n",
    "\n"
   ]
  },
  {
   "cell_type": "code",
   "execution_count": null,
   "metadata": {},
   "outputs": [],
   "source": [
    "reject = dict(grad=4000e-13, mag=4e-12, eog=150e-6)"
   ]
  },
  {
   "cell_type": "markdown",
   "metadata": {},
   "source": [
    "Read epochs:\n",
    "\n"
   ]
  },
  {
   "cell_type": "code",
   "execution_count": null,
   "metadata": {},
   "outputs": [],
   "source": [
    "epochs = mne.Epochs(raw, events, event_id, tmin, tmax, proj=True,\n",
    "                    picks=('meg', 'eeg', 'eog'),  # or could pass \"picks\" here\n",
    "                    baseline=baseline, preload=False, reject=reject)\n",
    "print(epochs)"
   ]
  },
  {
   "cell_type": "markdown",
   "metadata": {},
   "source": [
    "Get single epochs for one condition:\n",
    "\n"
   ]
  },
  {
   "cell_type": "code",
   "execution_count": null,
   "metadata": {},
   "outputs": [],
   "source": [
    "epochs_data = epochs['aud_l'].get_data()\n",
    "print(epochs_data.shape)"
   ]
  },
  {
   "cell_type": "markdown",
   "metadata": {},
   "source": [
    "epochs_data is a 3D array of dimension (55 epochs, 365 channels, 106 time\n",
    "instants).\n",
    "\n",
    "Scipy supports read and write of matlab files. You can save your single\n",
    "trials with:\n",
    "\n"
   ]
  },
  {
   "cell_type": "code",
   "execution_count": null,
   "metadata": {},
   "outputs": [],
   "source": [
    "from scipy import io  # noqa\n",
    "io.savemat('epochs_data.mat', dict(epochs_data=epochs_data), oned_as='row')"
   ]
  },
  {
   "cell_type": "markdown",
   "metadata": {},
   "source": [
    "or if you want to keep all the information about the data you can save your\n",
    "epochs in a fif file:\n",
    "\n"
   ]
  },
  {
   "cell_type": "code",
   "execution_count": null,
   "metadata": {},
   "outputs": [],
   "source": [
    "epochs.save('sample-epo.fif')"
   ]
  },
  {
   "cell_type": "markdown",
   "metadata": {},
   "source": [
    "and read them later with:\n",
    "\n"
   ]
  },
  {
   "cell_type": "code",
   "execution_count": null,
   "metadata": {},
   "outputs": [],
   "source": [
    "saved_epochs = mne.read_epochs('sample-epo.fif')"
   ]
  },
  {
   "cell_type": "markdown",
   "metadata": {},
   "source": [
    "Compute evoked responses for auditory responses by averaging and plot it:\n",
    "\n"
   ]
  },
  {
   "cell_type": "code",
   "execution_count": null,
   "metadata": {},
   "outputs": [],
   "source": [
    "evoked = epochs['aud_l'].average()\n",
    "print(evoked)\n",
    "evoked.plot(time_unit='s')"
   ]
  },
  {
   "cell_type": "markdown",
   "metadata": {},
   "source": [
    ".. topic:: Exercise\n",
    "\n",
    "  1. Extract the max value of each epoch\n",
    "\n"
   ]
  },
  {
   "cell_type": "code",
   "execution_count": null,
   "metadata": {},
   "outputs": [],
   "source": [
    "max_in_each_epoch = [e.max() for e in epochs['aud_l']]  # doctest:+ELLIPSIS\n",
    "print(max_in_each_epoch[:4])  # doctest:+ELLIPSIS"
   ]
  },
  {
   "cell_type": "markdown",
   "metadata": {},
   "source": [
    "It is also possible to read evoked data stored in a fif file:\n",
    "\n"
   ]
  },
  {
   "cell_type": "code",
   "execution_count": null,
   "metadata": {},
   "outputs": [],
   "source": [
    "evoked_fname = data_path + '/MEG/sample/sample_audvis-ave.fif'\n",
    "evoked1 = mne.read_evokeds(\n",
    "    evoked_fname, condition='Left Auditory', baseline=(None, 0), proj=True)"
   ]
  },
  {
   "cell_type": "markdown",
   "metadata": {},
   "source": [
    "Or another one stored in the same file:\n",
    "\n"
   ]
  },
  {
   "cell_type": "code",
   "execution_count": null,
   "metadata": {},
   "outputs": [],
   "source": [
    "evoked2 = mne.read_evokeds(\n",
    "    evoked_fname, condition='Right Auditory', baseline=(None, 0), proj=True)"
   ]
  },
  {
   "cell_type": "markdown",
   "metadata": {},
   "source": [
    "Two evoked objects can be contrasted using :func:`mne.combine_evoked`.\n",
    "This function can use ``weights='equal'``, which provides a simple\n",
    "element-by-element subtraction (and sets the\n",
    "``mne.Evoked.nave`` attribute properly based on the underlying number\n",
    "of trials) using either equivalent call:\n",
    "\n"
   ]
  },
  {
   "cell_type": "code",
   "execution_count": null,
   "metadata": {},
   "outputs": [],
   "source": [
    "contrast = mne.combine_evoked([evoked1, evoked2], weights=[0.5, -0.5])\n",
    "contrast = mne.combine_evoked([evoked1, -evoked2], weights='equal')\n",
    "print(contrast)"
   ]
  },
  {
   "cell_type": "markdown",
   "metadata": {},
   "source": [
    "To do a weighted sum based on the number of averages, which will give\n",
    "you what you would have gotten from pooling all trials together in\n",
    ":class:`mne.Epochs` before creating the :class:`mne.Evoked` instance,\n",
    "you can use ``weights='nave'``:\n",
    "\n"
   ]
  },
  {
   "cell_type": "code",
   "execution_count": null,
   "metadata": {},
   "outputs": [],
   "source": [
    "average = mne.combine_evoked([evoked1, evoked2], weights='nave')\n",
    "print(contrast)"
   ]
  },
  {
   "cell_type": "markdown",
   "metadata": {},
   "source": [
    "Instead of dealing with mismatches in the number of averages, we can use\n",
    "trial-count equalization before computing a contrast, which can have some\n",
    "benefits in inverse imaging (note that here ``weights='nave'`` will\n",
    "give the same result as ``weights='equal'``):\n",
    "\n"
   ]
  },
  {
   "cell_type": "code",
   "execution_count": null,
   "metadata": {},
   "outputs": [],
   "source": [
    "epochs_eq = epochs.copy().equalize_event_counts(['aud_l', 'aud_r'])[0]\n",
    "evoked1, evoked2 = epochs_eq['aud_l'].average(), epochs_eq['aud_r'].average()\n",
    "print(evoked1)\n",
    "print(evoked2)\n",
    "contrast = mne.combine_evoked([evoked1, -evoked2], weights='equal')\n",
    "print(contrast)"
   ]
  },
  {
   "cell_type": "markdown",
   "metadata": {},
   "source": [
    "Time-Frequency: Induced power and inter trial coherence\n",
    "^^^^^^^^^^^^^^^^^^^^^^^^^^^^^^^^^^^^^^^^^^^^^^^^^^^^^^^\n",
    "\n",
    "Define parameters:\n",
    "\n"
   ]
  },
  {
   "cell_type": "code",
   "execution_count": null,
   "metadata": {},
   "outputs": [],
   "source": [
    "import numpy as np  # noqa\n",
    "n_cycles = 2  # number of cycles in Morlet wavelet\n",
    "freqs = np.arange(7, 30, 3)  # frequencies of interest"
   ]
  },
  {
   "cell_type": "markdown",
   "metadata": {},
   "source": [
    "Compute induced power and phase-locking values and plot gradiometers:\n",
    "\n"
   ]
  },
  {
   "cell_type": "code",
   "execution_count": null,
   "metadata": {},
   "outputs": [],
   "source": [
    "from mne.time_frequency import tfr_morlet  # noqa\n",
    "power, itc = tfr_morlet(epochs, freqs=freqs, n_cycles=n_cycles,\n",
    "                        return_itc=True, decim=3, n_jobs=1)\n",
    "power.plot([power.ch_names.index('MEG 1332')])"
   ]
  },
  {
   "cell_type": "markdown",
   "metadata": {},
   "source": [
    "Inverse modeling: MNE and dSPM on evoked and raw data\n",
    "^^^^^^^^^^^^^^^^^^^^^^^^^^^^^^^^^^^^^^^^^^^^^^^^^^^^^\n",
    "\n",
    "Import the required functions:\n",
    "\n"
   ]
  },
  {
   "cell_type": "code",
   "execution_count": null,
   "metadata": {},
   "outputs": [],
   "source": [
    "from mne.minimum_norm import apply_inverse, read_inverse_operator  # noqa"
   ]
  },
  {
   "cell_type": "markdown",
   "metadata": {},
   "source": [
    "Read the inverse operator:\n",
    "\n"
   ]
  },
  {
   "cell_type": "code",
   "execution_count": null,
   "metadata": {},
   "outputs": [],
   "source": [
    "fname_inv = data_path + '/MEG/sample/sample_audvis-meg-oct-6-meg-inv.fif'\n",
    "inverse_operator = read_inverse_operator(fname_inv)"
   ]
  },
  {
   "cell_type": "markdown",
   "metadata": {},
   "source": [
    "Define the inverse parameters:\n",
    "\n"
   ]
  },
  {
   "cell_type": "code",
   "execution_count": null,
   "metadata": {},
   "outputs": [],
   "source": [
    "snr = 3.0\n",
    "lambda2 = 1.0 / snr ** 2\n",
    "method = \"dSPM\""
   ]
  },
  {
   "cell_type": "markdown",
   "metadata": {},
   "source": [
    "Compute the inverse solution:\n",
    "\n"
   ]
  },
  {
   "cell_type": "code",
   "execution_count": null,
   "metadata": {},
   "outputs": [],
   "source": [
    "stc = apply_inverse(evoked, inverse_operator, lambda2, method)"
   ]
  },
  {
   "cell_type": "markdown",
   "metadata": {},
   "source": [
    "Save the source time courses to disk:\n",
    "\n"
   ]
  },
  {
   "cell_type": "code",
   "execution_count": null,
   "metadata": {},
   "outputs": [],
   "source": [
    "stc.save('mne_dSPM_inverse')"
   ]
  },
  {
   "cell_type": "markdown",
   "metadata": {},
   "source": [
    "Now, let's compute dSPM on a raw file within a label:\n",
    "\n"
   ]
  },
  {
   "cell_type": "code",
   "execution_count": null,
   "metadata": {},
   "outputs": [],
   "source": [
    "fname_label = data_path + '/MEG/sample/labels/Aud-lh.label'\n",
    "label = mne.read_label(fname_label)"
   ]
  },
  {
   "cell_type": "markdown",
   "metadata": {},
   "source": [
    "Compute inverse solution during the first 15s:\n",
    "\n"
   ]
  },
  {
   "cell_type": "code",
   "execution_count": null,
   "metadata": {},
   "outputs": [],
   "source": [
    "from mne.minimum_norm import apply_inverse_raw  # noqa\n",
    "start, stop = raw.time_as_index([0, 15])  # read the first 15s of data\n",
    "stc = apply_inverse_raw(raw, inverse_operator, lambda2, method, label,\n",
    "                        start, stop)"
   ]
  },
  {
   "cell_type": "markdown",
   "metadata": {},
   "source": [
    "Save result in stc files:\n",
    "\n"
   ]
  },
  {
   "cell_type": "code",
   "execution_count": null,
   "metadata": {},
   "outputs": [],
   "source": [
    "stc.save('mne_dSPM_raw_inverse_Aud')"
   ]
  },
  {
   "cell_type": "markdown",
   "metadata": {},
   "source": [
    "What else can you do?\n",
    "^^^^^^^^^^^^^^^^^^^^^\n",
    "\n",
    "    - detect heart beat QRS component\n",
    "    - detect eye blinks and EOG artifacts\n",
    "    - compute SSP projections to remove ECG or EOG artifacts\n",
    "    - compute Independent Component Analysis (ICA) to remove artifacts or\n",
    "      select latent sources\n",
    "    - estimate noise covariance matrix from Raw and Epochs\n",
    "    - visualize cross-trial response dynamics using epochs images\n",
    "    - compute forward solutions\n",
    "    - estimate power in the source space\n",
    "    - estimate connectivity in sensor and source space\n",
    "    - morph stc from one brain to another for group studies\n",
    "    - compute mass univariate statistics base on custom contrasts\n",
    "    - visualize source estimates\n",
    "    - export raw, epochs, and evoked data to other python data analysis\n",
    "      libraries e.g. pandas\n",
    "    - and many more things ...\n",
    "\n",
    "Want to know more ?\n",
    "^^^^^^^^^^^^^^^^^^^\n",
    "\n",
    "Browse `the examples gallery <sphx_glr_auto_examples>`.\n",
    "\n"
   ]
  },
  {
   "cell_type": "code",
   "execution_count": null,
   "metadata": {},
   "outputs": [],
   "source": [
    "print(\"Done!\")"
   ]
  }
 ],
 "metadata": {
  "kernelspec": {
   "display_name": "Python 3",
   "language": "python",
   "name": "python3"
  },
  "language_info": {
   "codemirror_mode": {
    "name": "ipython",
    "version": 3
   },
   "file_extension": ".py",
   "mimetype": "text/x-python",
   "name": "python",
   "nbconvert_exporter": "python",
   "pygments_lexer": "ipython3",
   "version": "3.7.3"
  }
 },
 "nbformat": 4,
 "nbformat_minor": 1
}
