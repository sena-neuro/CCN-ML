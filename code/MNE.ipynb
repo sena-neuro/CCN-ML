{
 "cells": [
  {
   "cell_type": "markdown",
   "metadata": {},
   "source": [
    "Import needed information "
   ]
  },
  {
   "cell_type": "code",
   "execution_count": 1,
   "metadata": {},
   "outputs": [],
   "source": [
    "import mne, os, glob\n",
    "from mne.io import read_raw_brainvision, read_epochs_eeglab\n",
    "import scipy\n",
    "import numpy as np"
   ]
  },
  {
   "cell_type": "markdown",
   "metadata": {},
   "source": [
    "Get the files.\n",
    "Print Information.\n",
    "Store needed information."
   ]
  },
  {
   "cell_type": "code",
   "execution_count": 2,
   "metadata": {},
   "outputs": [
    {
     "name": "stdout",
     "output_type": "stream",
     "text": [
      "Extracting parameters from /home/user/Desktop/data_eeg/subj01/Still/android_still_epochs.set...\n",
      "83 matching events found\n",
      "No baseline correction applied\n",
      "Not setting metadata\n",
      "0 projection items activated\n",
      "Ready.\n",
      "Applying baseline correction (mode: mean)\n",
      "83 matching events found\n",
      "No baseline correction applied\n",
      "Not setting metadata\n",
      "0 projection items activated\n",
      "0 bad epochs dropped\n"
     ]
    },
    {
     "name": "stderr",
     "output_type": "stream",
     "text": [
      "<ipython-input-2-6989b7937404>:3: RuntimeWarning: At least one epoch has multiple events. Only the latency of the first event will be retained.\n",
      "  eeglab_obj = read_epochs_eeglab(each)\n",
      "<ipython-input-2-6989b7937404>:3: RuntimeWarning: The following EEG sensors did not have a position specified in the selected montage: ['pulse', 'GSR']. Their position has been left untouched.\n",
      "  eeglab_obj = read_epochs_eeglab(each)\n"
     ]
    },
    {
     "data": {
      "text/plain": [
       "<Figure size 640x480 with 3 Axes>"
      ]
     },
     "metadata": {},
     "output_type": "display_data"
    },
    {
     "name": "stdout",
     "output_type": "stream",
     "text": [
      "Extracting parameters from /home/user/Desktop/data_eeg/subj01/Still/human_still_epochs.set...\n",
      "86 matching events found\n",
      "No baseline correction applied\n",
      "Not setting metadata\n",
      "0 projection items activated\n",
      "Ready.\n",
      "Applying baseline correction (mode: mean)\n",
      "86 matching events found\n",
      "No baseline correction applied\n",
      "Not setting metadata\n",
      "0 projection items activated\n",
      "0 bad epochs dropped\n"
     ]
    },
    {
     "name": "stderr",
     "output_type": "stream",
     "text": [
      "<ipython-input-2-6989b7937404>:3: RuntimeWarning: At least one epoch has multiple events. Only the latency of the first event will be retained.\n",
      "  eeglab_obj = read_epochs_eeglab(each)\n",
      "<ipython-input-2-6989b7937404>:3: RuntimeWarning: The following EEG sensors did not have a position specified in the selected montage: ['pulse', 'GSR']. Their position has been left untouched.\n",
      "  eeglab_obj = read_epochs_eeglab(each)\n"
     ]
    },
    {
     "data": {
      "text/plain": [
       "<Figure size 640x480 with 3 Axes>"
      ]
     },
     "metadata": {},
     "output_type": "display_data"
    },
    {
     "name": "stdout",
     "output_type": "stream",
     "text": [
      "Extracting parameters from /home/user/Desktop/data_eeg/subj01/Still/robot_still_epochs.set...\n",
      "89 matching events found\n",
      "No baseline correction applied\n",
      "Not setting metadata\n",
      "0 projection items activated\n",
      "Ready.\n",
      "Applying baseline correction (mode: mean)\n",
      "89 matching events found\n",
      "No baseline correction applied\n",
      "Not setting metadata\n",
      "0 projection items activated\n",
      "0 bad epochs dropped\n"
     ]
    },
    {
     "name": "stderr",
     "output_type": "stream",
     "text": [
      "<ipython-input-2-6989b7937404>:3: RuntimeWarning: At least one epoch has multiple events. Only the latency of the first event will be retained.\n",
      "  eeglab_obj = read_epochs_eeglab(each)\n",
      "<ipython-input-2-6989b7937404>:3: RuntimeWarning: The following EEG sensors did not have a position specified in the selected montage: ['pulse', 'GSR']. Their position has been left untouched.\n",
      "  eeglab_obj = read_epochs_eeglab(each)\n"
     ]
    },
    {
     "data": {
      "text/plain": [
       "<Figure size 640x480 with 3 Axes>"
      ]
     },
     "metadata": {},
     "output_type": "display_data"
    }
   ],
   "source": [
    "for each in glob.glob(\"/home/user/Desktop/data_eeg/subj01/Still/*.set\"): \n",
    "    # read epochs object\n",
    "    eeglab_obj = read_epochs_eeglab(each)\n",
    "\n",
    "    # apply baseline\n",
    "    eeglab_obj.apply_baseline((-0.2,0))\n",
    "\n",
    "    # remove channels\n",
    "    eeglab_obj.pick_channels([ \"Fz\", \"F3\", \"F7\" , \"FT9\" , \"FC5\", \"FC1\", \"C3\", \"T7\", \"TP9\" , \"CP5\",\\\n",
    "                        \"CP1\", \"Pz\", \"P3\", \"P7\", \"O1\", \"Oz\", \"O2\", \"P4\", \"P8\", \"TP10\",\\\n",
    "                        \"CP6\", \"CP2\", \"Cz\", \"C4\", \"T8\", \"FT10\", \"FC6\", \"FC2\", \"F4\", \"F8\",\\\n",
    "                        \"AF7\" ,\"AF3\", \"AFz\"  , \"F1\",\"F5\" , \"FT7\", \"FC3\" ,\"FCz\" , \"C1\", \"C5\", \"TP7\",\\\n",
    "                        \"CP3\" ,\"P1\" , \"P5\", \"PO7\", \"PO3\", \"POz\", \"PO4\", \"PO8\", \"P6\", \"P2\", \"CPz\",\\\n",
    "                        \"CP4\", \"TP8\", \"C6\", \"C2\", \"FC4\", \"FT8\", \"F6\", \"F2\", \"AF4\", \"AF8\"])\n",
    "    # visualize\n",
    "    #fig  = eeglab_obj.plot_image()\n",
    "    # None\n",
    "    \n",
    "    # store for the project\n",
    "    data = eeglab_obj.get_data()\n",
    "    # roll axis in order to settle down to previous layout of problem\n",
    "    rolled_data = np.rollaxis(data, 2)\n",
    "    rolled_data = np.rollaxis(rolled_data, 2)\n",
    "    \n",
    "    name = \"subj01_\" + each.replace(\"/home/user/Desktop/data_eeg/subj01/Still/\",\"\").replace(\"set\",\"mat\")\n",
    "    scipy.io.savemat( name, { name.replace(\".mat\",\"\"): rolled_data})"
   ]
  },
  {
   "cell_type": "code",
   "execution_count": null,
   "metadata": {},
   "outputs": [],
   "source": []
  },
  {
   "cell_type": "code",
   "execution_count": null,
   "metadata": {},
   "outputs": [],
   "source": []
  },
  {
   "cell_type": "code",
   "execution_count": null,
   "metadata": {
    "scrolled": true
   },
   "outputs": [],
   "source": []
  },
  {
   "cell_type": "code",
   "execution_count": null,
   "metadata": {},
   "outputs": [],
   "source": []
  },
  {
   "cell_type": "code",
   "execution_count": null,
   "metadata": {},
   "outputs": [],
   "source": []
  },
  {
   "cell_type": "code",
   "execution_count": null,
   "metadata": {},
   "outputs": [],
   "source": []
  },
  {
   "cell_type": "code",
   "execution_count": null,
   "metadata": {},
   "outputs": [],
   "source": []
  }
 ],
 "metadata": {
  "kernelspec": {
   "display_name": "Python 3",
   "language": "python",
   "name": "python3"
  },
  "language_info": {
   "codemirror_mode": {
    "name": "ipython",
    "version": 3
   },
   "file_extension": ".py",
   "mimetype": "text/x-python",
   "name": "python",
   "nbconvert_exporter": "python",
   "pygments_lexer": "ipython3",
   "version": "3.7.3"
  }
 },
 "nbformat": 4,
 "nbformat_minor": 2
}
